{
 "cells": [
  {
   "cell_type": "markdown",
   "id": "372d67eb-0ee4-4a5b-aa58-4377f3c5c7b3",
   "metadata": {},
   "source": [
    "# Activité 3 : Scraper ce que vous voulez ! "
   ]
  },
  {
   "cell_type": "markdown",
   "id": "cb5a6e5b-bd58-4433-b3a7-0c5ce583f003",
   "metadata": {},
   "source": [
    "### Première possibilité "
   ]
  },
  {
   "cell_type": "markdown",
   "id": "9aedf4c0-fb6d-446c-b676-22421c2ce3af",
   "metadata": {},
   "source": [
    "Pour cette dernière activité, on vous laisse la possibilité de scraper le site que vous voulez ! On passe dans les rangs vous aider !\n",
    "\n",
    "Si vous n'avez pas d'idées, voici une liste d'url intéressante à scraper :\n",
    "\n",
    "- https://fr.wikipedia.org/wiki/Wikip%C3%A9dia:Accueil_principal\n",
    "- https://huggingface.co/\n",
    "- https://pytorch.org/docs/stable/index.html\n",
    "- https://www.amazon.fr/"
   ]
  },
  {
   "cell_type": "code",
   "execution_count": null,
   "id": "7f414780-2101-4138-a363-89c4c3acef84",
   "metadata": {},
   "outputs": [],
   "source": []
  },
  {
   "cell_type": "code",
   "execution_count": null,
   "id": "7dfc1267-66f2-466e-9677-6759aacf6904",
   "metadata": {},
   "outputs": [],
   "source": []
  },
  {
   "cell_type": "code",
   "execution_count": null,
   "id": "f5537a25-a954-4254-ba9a-33aef72a5eed",
   "metadata": {},
   "outputs": [],
   "source": []
  },
  {
   "cell_type": "markdown",
   "id": "328cbe32-1c63-45d4-9458-5879716e84bb",
   "metadata": {},
   "source": [
    "### Deuxième possibilité"
   ]
  },
  {
   "cell_type": "markdown",
   "id": "48a6647b-b373-4bf9-b420-aa5856307e9c",
   "metadata": {},
   "source": [
    "Si cette liste ne vous convient pas et qu'aucune idée ne vous vient en tête, nous vous proposons de développer le concept de l'activité 1. \n",
    "\n",
    "Cette fois-ci, on veut un tableau qui contiendra les colonnes suivantes : `title`, `num_enigme`, `url`, `image`, `enigme`, `solution` pour 3 énigmes.\n",
    "\n",
    "Nous allons fournir la première partie pour sélectionner 3 énigmes. On commence par aller sur une page qui contient les liens vers toutes les énigmes du jeu : "
   ]
  },
  {
   "cell_type": "code",
   "execution_count": 1,
   "id": "1f878bd2-8e26-4af2-9d2a-106572a0c145",
   "metadata": {},
   "outputs": [],
   "source": [
    "from selenium import webdriver\n",
    "from selenium.webdriver.chrome.options import Options\n",
    "from selenium.webdriver.common.by import By\n",
    "import time\n",
    "import random\n",
    "import pandas as pd"
   ]
  },
  {
   "cell_type": "code",
   "execution_count": 2,
   "id": "97809424-3f29-44f6-803f-5019ca759d36",
   "metadata": {},
   "outputs": [],
   "source": [
    "url = \"https://professeur-layton.fandom.com/fr/wiki/Cat%C3%A9gorie:%C3%89nigmes\""
   ]
  },
  {
   "cell_type": "markdown",
   "id": "7655759b-09e0-48df-8d18-2198602b0d4a",
   "metadata": {},
   "source": [
    "On se connecte en mode \"headless\" pour gagner quelques lignes de code :"
   ]
  },
  {
   "cell_type": "code",
   "execution_count": 3,
   "id": "bbc9389b-5bf1-4894-867c-6ce3fb3fe55e",
   "metadata": {},
   "outputs": [],
   "source": [
    "# Création d'une instance des options Chrome\n",
    "chrome_options = Options()\n",
    "\n",
    "# Définition des options Chrome \n",
    "chrome_options.add_argument('--disable-search-engine-choice-screen') \n",
    "chrome_options.add_argument('--disable-infobars')\n",
    "chrome_options.add_argument('--headless=new')\n",
    "# Création d'une nouvelle instance du navigateur Chrome avec les options spécifiées\n",
    "driver = webdriver.Chrome(options=chrome_options)\n",
    "driver.get(url)"
   ]
  },
  {
   "cell_type": "markdown",
   "id": "a052ff55-47fb-4abd-94c2-4097da7e4284",
   "metadata": {},
   "source": [
    "On récupère tous les liens de type href vers les énigmes grâce à un sélecteur type CSS_Selector : "
   ]
  },
  {
   "cell_type": "code",
   "execution_count": 4,
   "id": "4dfb1caa-6e43-48a2-a9b0-e5bf6aceda4b",
   "metadata": {},
   "outputs": [],
   "source": [
    "# Récupérer tous les éléments <a> avec la classe \"category-page__member-link\"\n",
    "elements = driver.find_elements(By.CSS_SELECTOR, \"a.category-page__member-link\")\n",
    "# Extraire les hrefs des éléments trouvés\n",
    "hrefs = [element.get_attribute(\"href\") for element in elements]\n",
    "# Extraire les hrefs des éléments trouvés et filtrer pour exclure ceux contenant \"Categories\"\n",
    "hrefs = [element.get_attribute(\"href\") for element in elements if \"Cat%C3%A9gorie\" not in element.get_attribute(\"href\")]"
   ]
  },
  {
   "cell_type": "markdown",
   "id": "e447ae8a-60d5-4497-9e93-00315d066024",
   "metadata": {},
   "source": [
    "On extrait aléatoirement une liste de 3 liens (pour éviter d'avoir un code trop long et de surcharger le wiki en requêtes) :"
   ]
  },
  {
   "cell_type": "code",
   "execution_count": 5,
   "id": "b77ff0f9-caa7-4088-960a-9480b3a3ce70",
   "metadata": {},
   "outputs": [],
   "source": [
    "# Sélectionner aléatoirement 3 hrefs\n",
    "hrefs = random.sample(hrefs, 3)"
   ]
  },
  {
   "cell_type": "code",
   "execution_count": 6,
   "id": "4c346348-e8bd-453a-b250-3d0ea83ab24e",
   "metadata": {},
   "outputs": [
    {
     "data": {
      "text/plain": [
       "['https://professeur-layton.fandom.com/fr/wiki/Lapinothello',\n",
       " 'https://professeur-layton.fandom.com/fr/wiki/Naufrage',\n",
       " 'https://professeur-layton.fandom.com/fr/wiki/Balances_inexactes']"
      ]
     },
     "execution_count": 6,
     "metadata": {},
     "output_type": "execute_result"
    }
   ],
   "source": [
    "hrefs"
   ]
  },
  {
   "cell_type": "markdown",
   "id": "0a9c1f18-4d82-4853-9ba9-1c0e3b903950",
   "metadata": {},
   "source": [
    "On va ensuite créer une fonction qui pour chaque lien récupère les données qui nous intéressent :"
   ]
  },
  {
   "cell_type": "code",
   "execution_count": null,
   "id": "24039d6e-4f49-4fde-87ce-c6a134e6cdaf",
   "metadata": {},
   "outputs": [],
   "source": []
  }
 ],
 "metadata": {
  "kernelspec": {
   "display_name": "Python 3 (ipykernel)",
   "language": "python",
   "name": "python3"
  },
  "language_info": {
   "codemirror_mode": {
    "name": "ipython",
    "version": 3
   },
   "file_extension": ".py",
   "mimetype": "text/x-python",
   "name": "python",
   "nbconvert_exporter": "python",
   "pygments_lexer": "ipython3",
   "version": "3.11.7"
  }
 },
 "nbformat": 4,
 "nbformat_minor": 5
}

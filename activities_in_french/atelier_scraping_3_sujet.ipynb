{
 "cells": [
  {
   "cell_type": "markdown",
   "id": "372d67eb-0ee4-4a5b-aa58-4377f3c5c7b3",
   "metadata": {},
   "source": [
    "# Activité 3 : Scraper ce que vous voulez ! "
   ]
  },
  {
   "cell_type": "markdown",
   "id": "9aedf4c0-fb6d-446c-b676-22421c2ce3af",
   "metadata": {},
   "source": [
    "Pour cette dernière activité, on vous laisse la possibilité de scraper le site que vous voulez ! On passe dans les rangs vous aider !\n",
    "\n",
    "Si vous n'avez pas d'idées, voici une liste d'url intéressante à scraper :\n",
    "\n",
    "- https://fr.wikipedia.org/wiki/Wikip%C3%A9dia:Accueil_principal\n",
    "- https://huggingface.co/\n",
    "- https://pytorch.org/docs/stable/index.html\n",
    "- https://www.amazon.fr/"
   ]
  },
  {
   "cell_type": "code",
   "execution_count": null,
   "id": "7f414780-2101-4138-a363-89c4c3acef84",
   "metadata": {},
   "outputs": [],
   "source": []
  },
  {
   "cell_type": "code",
   "execution_count": null,
   "id": "7dfc1267-66f2-466e-9677-6759aacf6904",
   "metadata": {},
   "outputs": [],
   "source": []
  },
  {
   "cell_type": "code",
   "execution_count": null,
   "id": "f5537a25-a954-4254-ba9a-33aef72a5eed",
   "metadata": {},
   "outputs": [],
   "source": []
  },
  {
   "cell_type": "code",
   "execution_count": null,
   "id": "90194165-542e-497f-a559-690fd266f138",
   "metadata": {},
   "outputs": [],
   "source": []
  },
  {
   "cell_type": "code",
   "execution_count": null,
   "id": "4092c005-1171-478c-9990-3079770509d7",
   "metadata": {},
   "outputs": [],
   "source": []
  },
  {
   "cell_type": "code",
   "execution_count": null,
   "id": "97809424-3f29-44f6-803f-5019ca759d36",
   "metadata": {},
   "outputs": [],
   "source": []
  },
  {
   "cell_type": "code",
   "execution_count": null,
   "id": "d974ef35-a665-47b5-b7e7-1c912c09c017",
   "metadata": {},
   "outputs": [],
   "source": []
  }
 ],
 "metadata": {
  "kernelspec": {
   "display_name": "Python 3 (ipykernel)",
   "language": "python",
   "name": "python3"
  },
  "language_info": {
   "codemirror_mode": {
    "name": "ipython",
    "version": 3
   },
   "file_extension": ".py",
   "mimetype": "text/x-python",
   "name": "python",
   "nbconvert_exporter": "python",
   "pygments_lexer": "ipython3",
   "version": "3.11.7"
  }
 },
 "nbformat": 4,
 "nbformat_minor": 5
}

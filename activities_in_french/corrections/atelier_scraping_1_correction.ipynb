{
 "cells": [
  {
   "cell_type": "markdown",
   "id": "c6f333bd-2609-4858-b410-1414c00cd3d6",
   "metadata": {},
   "source": [
    "# <center>Atelier Scraping </center>"
   ]
  },
  {
   "cell_type": "markdown",
   "id": "6e655cd2-053b-47a2-baf0-9eabfc01b7dc",
   "metadata": {},
   "source": [
    "<div style=\"text-align: center;\">\n",
    "    <img src=\"../images/scrappeur.png\" width=\"600\" height=\"300\">\n",
    "</div>"
   ]
  },
  {
   "cell_type": "markdown",
   "id": "b3f4c6a6-7867-4f2f-8653-df8ceea4569c",
   "metadata": {},
   "source": [
    "## Introduction"
   ]
  },
  {
   "cell_type": "markdown",
   "id": "8aeb85f9-b3c0-4541-a7cf-9085482f8cdb",
   "metadata": {},
   "source": [
    "Commençons par mettre en place les bases du scraping. \n",
    "\n",
    "Scraper, c'est savoir lire ce qui se cache derrière un site. Avec un simple clic droit et `inspecter`, on arrive assez simplement à accéder au code HTML de la page."
   ]
  },
  {
   "cell_type": "markdown",
   "id": "e1a46eec-b1f5-46c9-837f-956dcef224c4",
   "metadata": {},
   "source": [
    "<div style=\"text-align: center;\">\n",
    "    <img src=\"../images/du_site_au_html.png\" width=\"800\" height=\"400\">\n",
    "</div>"
   ]
  },
  {
   "cell_type": "markdown",
   "id": "408ba027-bc50-4306-ab47-58cd2b1ca486",
   "metadata": {},
   "source": [
    "Le scraping consiste donc à analyser le code source d'une page pour diverses applications :  \n",
    "\n",
    "- Localiser des éléments et intérargir avec pour l'automatisation de tâches répétitives (comme des boutons par exemple)\n",
    "- Extraire différentes informations (ce que nous allons voir dans cet atelier)\n",
    "\n",
    "____"
   ]
  },
  {
   "cell_type": "markdown",
   "id": "7c58b036-74aa-43bd-8739-cbde358365a1",
   "metadata": {},
   "source": [
    "Ensuite, il faut choisir un outil de scraping : ***Selenium*** ou ***BeautifulSoup*** avec lequel on va pouvoir récupérer les différents éléments d'une page web.\n",
    "\n",
    "- Selenium est utile pour les pages web dynamiques où le contenu est généré via JavaScript, nécessitant des interactions utilisateur telles que les clics, le défilement, ou la saisie de texte.\n",
    "\n",
    "- BeautifulSoup est une bibliothèque Python utilisée principalement pour parser (analyser) des documents HTML et XML. Elle est utile pour extraire des données structurées à partir de pages web statiques.\n",
    "\n",
    "De manière générale, on préfèrera utiliser Selenium qui permet plus d'actions, mais beautifulsoup reste une option importante. Dans, cette activité on présente donc les deux modules pour se faire la main."
   ]
  },
  {
   "cell_type": "markdown",
   "id": "b8a673eb-db4d-48ac-a680-2c1a2fc47a80",
   "metadata": {},
   "source": [
    "___"
   ]
  },
  {
   "cell_type": "markdown",
   "id": "b651b072-df16-4586-8b2b-6ea80422c1da",
   "metadata": {},
   "source": [
    "## Activité 1a : Récupérer une énigme du Professeur Layton avec Selenium"
   ]
  },
  {
   "cell_type": "markdown",
   "id": "6abe749d-4ac0-44b2-a5f4-a2a1d61f7b69",
   "metadata": {},
   "source": [
    "Nous allons voir comment nous pouvons simplement récupérer les éléments principaux d'une page wiki pour s'en faire une base de données. Pour cela, nous allons nous connecter sur https://professeur-layton.fandom.com/fr/wiki/En_queue_de_poisson. \n",
    "\n",
    "L'idée dans un premier temps sera de récupérer :\n",
    "- le titre\n",
    "- le numéro de l'énigme\n",
    "- l'énoncé\n",
    "- la solution\n",
    "- la résolution"
   ]
  },
  {
   "cell_type": "markdown",
   "id": "d4f454db-be86-4540-b80b-8f78634070c6",
   "metadata": {},
   "source": [
    "#### Import des modules python"
   ]
  },
  {
   "cell_type": "code",
   "execution_count": 1,
   "id": "1214a01e-fc63-46f2-9da7-d082a90e10cc",
   "metadata": {},
   "outputs": [],
   "source": [
    "from selenium import webdriver\n",
    "from selenium.webdriver.chrome.options import Options\n",
    "from selenium.webdriver.common.by import By\n",
    "import time\n",
    "import random\n",
    "import pandas as pd"
   ]
  },
  {
   "cell_type": "markdown",
   "id": "aee0ba2e-8543-4dc9-8b6c-5fb43f87c517",
   "metadata": {},
   "source": [
    "#### Lancer l'ouverture du navigateur et la connexion à l'énigme"
   ]
  },
  {
   "cell_type": "code",
   "execution_count": 2,
   "id": "e40e8b8a-52fa-458a-8ab5-6ed70c070d9c",
   "metadata": {},
   "outputs": [],
   "source": [
    "# Création d'une instance des options Chrome\n",
    "chrome_options = Options()\n",
    "\n",
    "# Définition des options Chrome \n",
    "chrome_options.add_argument('--disable-search-engine-choice-screen') \n",
    "chrome_options.add_argument('--disable-infobars')\n",
    "# Création d'une nouvelle instance du navigateur Chrome avec les options spécifiées\n",
    "driver = webdriver.Chrome(options=chrome_options)\n",
    "\n",
    "# On renseigne l'URL que l'on veut scraper et on l'injecte dans le driver :\n",
    "url = \"https://professeur-layton.fandom.com/fr/wiki/En_queue_de_poisson\"\n",
    "driver.get(url)"
   ]
  },
  {
   "cell_type": "markdown",
   "id": "22b45061-4984-49f5-936a-be17fcbf5178",
   "metadata": {},
   "source": [
    "____"
   ]
  },
  {
   "cell_type": "markdown",
   "id": "330f2da9-a759-4194-b955-751b2a40ee66",
   "metadata": {},
   "source": [
    "Si tout a bien fonctionné, vous voyez normalement une fenêtre chrome s'ouvrir à l'URL que nous avons fourni. \n",
    "\n",
    "Le site utilise des cookies, nous pourrions simplement cliquer sur \"TOUT ACCEPTER\" ou \"TOUT REFUSER\" mais nous allons utiliser selenium pour réaliser une de ces actions. Les deux prochaines cellules de codes sont très spécifiques au site que nous essayons de scraper, nous n'allons pas nous attarder spécialement dessus : "
   ]
  },
  {
   "cell_type": "code",
   "execution_count": 3,
   "id": "927f3664-c9f0-4e64-855e-c1e7d48ed69d",
   "metadata": {},
   "outputs": [],
   "source": [
    "cookie = driver.find_element(By.CLASS_NAME ,'NN0_TB_DIsNmMHgJWgT7U')\n",
    "cookie.click()"
   ]
  },
  {
   "cell_type": "markdown",
   "id": "2ac4259c-d468-42af-a75b-ba0b22ad7303",
   "metadata": {},
   "source": [
    "Ensuite, nous allons scroller légèrement pour que le programme puisse localiser les différents éléments du site (étant donné la vidéo de pub assez grande en haut de la page web) :"
   ]
  },
  {
   "cell_type": "code",
   "execution_count": 4,
   "id": "479001e4-3443-4990-bed0-1ec7e1514a6f",
   "metadata": {},
   "outputs": [],
   "source": [
    "# Récupérer la hauteur totale de la page\n",
    "total_height = driver.execute_script(\"return document.body.scrollHeight\")\n",
    "\n",
    "# Calculer la hauteur de défilement (20% dans cet exemple)\n",
    "scroll_height = total_height * 0.20\n",
    "\n",
    "# Scroller de 10%\n",
    "driver.execute_script(f\"window.scrollBy(0, {scroll_height});\")"
   ]
  },
  {
   "cell_type": "markdown",
   "id": "9b4efce3-81fe-4d52-af77-d24004d7a3f6",
   "metadata": {},
   "source": [
    "___"
   ]
  },
  {
   "cell_type": "markdown",
   "id": "4d73dbea-7996-4b4f-8d10-1b98b03ff12a",
   "metadata": {},
   "source": [
    "Nous allons maintenant voir comment récupérer les informations de la consigne : le titre, le numéro de l'énigme, l'énoncé, la solution et la résolution."
   ]
  },
  {
   "cell_type": "markdown",
   "id": "acd46d9c-4ce6-46d5-8a46-c1e06552e73f",
   "metadata": {},
   "source": [
    "#### Récupération astucieuse des éléments Web"
   ]
  },
  {
   "cell_type": "markdown",
   "id": "43be3a20-c0f0-48b1-aca1-a836923163de",
   "metadata": {},
   "source": [
    "Voici un petit [Formulaire HTML](formulaire_html.md). Il permet rapidemment d'apprendre ou se remémorer les balises principales permettant de lire du HTML et d'ainsi repérer les différents éléments d'une page web.\n"
   ]
  },
  {
   "cell_type": "markdown",
   "id": "a07ff8bf-f906-477d-aebe-12710764cbc4",
   "metadata": {},
   "source": [
    "C'est ici que l'on introduit les différents sélecteurs d'éléments Web : \n",
    "\n",
    "- ID = \"id\"\n",
    "- NAME = \"name\"\n",
    "- XPATH = \"xpath\"\n",
    "- LINK_TEXT = \"link text\"\n",
    "- PARTIAL_LINK_TEXT = \"partial link text\"\n",
    "- TAG_NAME = \"tag name\"\n",
    "- CLASS_NAME = \"class name\"\n",
    "- CSS_SELECTOR = \"css selector\""
   ]
  },
  {
   "cell_type": "code",
   "execution_count": 5,
   "id": "3b89c775-44ab-4254-8400-1a71f7eadd4b",
   "metadata": {},
   "outputs": [],
   "source": [
    "# Récupération du titre :\n",
    "title = driver.find_element(By.ID, 'firstHeading')\n",
    "\n",
    "# Récupération du numéro de l'énigme :\n",
    "num_enigme = driver.find_element(By.XPATH ,'//*[@id=\"mw-content-text\"]/div/div[1]/div[2]/table/tbody/tr[4]/td')\n",
    "\n",
    "# Récupération de l'énoncé de l'énigme :\n",
    "enonce = driver.find_element(By.ID, \"Énoncé\")\n",
    "enigme_enonce = enonce.find_elements(By.XPATH, \"//span[@class='mw-headline' and @id='Énoncé']/ancestor::h2/following-sibling::p[following-sibling::h2]\")\n",
    "\n",
    "# Récupération de la réponse :\n",
    "reponse = driver.find_element(By.XPATH, '//*[@id=\"mw-content-text\"]/div/p[8]')\n",
    "\n",
    "resolution = driver.find_element(By.ID, \"Résolution\")\n",
    "resolution_enonce = resolution.find_elements(By.XPATH, \"//span[@class='mw-headline' and @id='Résolution']/ancestor::h3/following-sibling::p[following-sibling::h3]\")"
   ]
  },
  {
   "cell_type": "markdown",
   "id": "a44eac8d-5116-4a67-981e-31daed6c0ac5",
   "metadata": {},
   "source": [
    "Observez ce que contiennent nos variables ainsi que leur type : "
   ]
  },
  {
   "cell_type": "code",
   "execution_count": 6,
   "id": "d9782e1e-e600-49bf-b2a3-bb822ae395e5",
   "metadata": {},
   "outputs": [
    {
     "data": {
      "text/plain": [
       "<selenium.webdriver.remote.webelement.WebElement (session=\"b4bd56e47bb420f6567fc8602fb8310f\", element=\"f.E9E21ADD1B4BBA7320E52750FAA7022C.d.409A9EA6D88A677D28A825312917BE31.e.98\")>"
      ]
     },
     "execution_count": 6,
     "metadata": {},
     "output_type": "execute_result"
    }
   ],
   "source": [
    "title"
   ]
  },
  {
   "cell_type": "code",
   "execution_count": 7,
   "id": "63e96993-4ed0-4d19-aef1-1015ada5749c",
   "metadata": {},
   "outputs": [
    {
     "data": {
      "text/plain": [
       "selenium.webdriver.remote.webelement.WebElement"
      ]
     },
     "execution_count": 7,
     "metadata": {},
     "output_type": "execute_result"
    }
   ],
   "source": [
    "type(title)"
   ]
  },
  {
   "cell_type": "code",
   "execution_count": 8,
   "id": "0f0fa798-3511-4223-9e3f-17dfaeb2e088",
   "metadata": {},
   "outputs": [
    {
     "data": {
      "text/plain": [
       "[<selenium.webdriver.remote.webelement.WebElement (session=\"b4bd56e47bb420f6567fc8602fb8310f\", element=\"f.E9E21ADD1B4BBA7320E52750FAA7022C.d.409A9EA6D88A677D28A825312917BE31.e.107\")>,\n",
       " <selenium.webdriver.remote.webelement.WebElement (session=\"b4bd56e47bb420f6567fc8602fb8310f\", element=\"f.E9E21ADD1B4BBA7320E52750FAA7022C.d.409A9EA6D88A677D28A825312917BE31.e.108\")>]"
      ]
     },
     "execution_count": 8,
     "metadata": {},
     "output_type": "execute_result"
    }
   ],
   "source": [
    "resolution_enonce"
   ]
  },
  {
   "cell_type": "code",
   "execution_count": 9,
   "id": "dc700598-6750-4864-b393-133c750888ee",
   "metadata": {},
   "outputs": [
    {
     "data": {
      "text/plain": [
       "list"
      ]
     },
     "execution_count": 9,
     "metadata": {},
     "output_type": "execute_result"
    }
   ],
   "source": [
    "type(resolution_enonce)"
   ]
  },
  {
   "cell_type": "markdown",
   "id": "3d45a493-7cc7-42f3-8929-83e1b98b4159",
   "metadata": {},
   "source": [
    "#### Lecture des éléments Web"
   ]
  },
  {
   "cell_type": "markdown",
   "id": "6d92e420-5886-47ed-9119-15e9c7c3a2e5",
   "metadata": {},
   "source": [
    "Vous avez probablement remarqué que nous avons utilisé `find_element` dans certains cas et `find_elements` dans d'autres. \n",
    "\n",
    "Le choix entre ces deux méthodes dépend de ce que l'on cherche à obtenir. \n",
    "\n",
    "Si nous voulons extraire un seul élément, comme un titre, nous utiliserons `find_element`, car nous ne souhaitons récupérer qu'un seul élément. \n",
    "\n",
    "En revanche, lorsque nous cherchons à obtenir plusieurs éléments, comme les balises de texte pour un énoncé ou la résolution d'une énigme, nous utiliserons `find_elements`, car cela permet de récupérer plusieurs éléments à la fois.\n",
    "\n",
    "Cette façon de récupérer les éléments va avoir un impact sur la manière de les lire. La méthode `.text` permet d'obtenir le texte d'un WebElement.\n",
    "Cependant, si vous avez une liste de WebElement, la méthode `.text` ne sera pas directement accessible, d'où le code suivant : \n"
   ]
  },
  {
   "cell_type": "code",
   "execution_count": 10,
   "id": "43ab2d7f-d104-48c2-9a9b-bab9d8a34ea0",
   "metadata": {},
   "outputs": [],
   "source": [
    "# Extraction du texte du WebElement title\n",
    "title = title.text\n",
    "\n",
    "# Extraction du texte du WebElement num_enigme\n",
    "num_enigme = num_enigme.text\n",
    "\n",
    "# Extraction du texte de la liste de WebElements enigme_enonce\n",
    "enigme_enonce = [elem.text for elem in enigme_enonce]\n",
    "enigme_enonce = \"\".join(enigme_enonce)\n",
    "\n",
    "# Extraction du texte du WebElement reponse\n",
    "reponse = reponse.text\n",
    "\n",
    "# Extraction du texte de la liste de WebElements resolution_enonce\n",
    "resolution_enonce = [elem.text for elem in resolution_enonce]\n",
    "resolution_enonce = \"\".join(resolution_enonce)"
   ]
  },
  {
   "cell_type": "markdown",
   "id": "d377e730-ebbf-4aae-8c74-ccee3087e128",
   "metadata": {},
   "source": [
    "#### Stockage dans un DataFrame"
   ]
  },
  {
   "cell_type": "code",
   "execution_count": 11,
   "id": "079d8e96-471e-4c4b-8643-6492ec52ee80",
   "metadata": {},
   "outputs": [
    {
     "name": "stdout",
     "output_type": "stream",
     "text": [
      "{'title': 'En queue de poisson', 'number': '053', 'enonce': 'Alors que vous aviez le dos tourné, quelqu\\'un a englouti le poisson que vous vous étiez préparé pour le dîner. Trois frères se trouvent à proximité des lieux du crime. Voici ce qu\\'ils ont a dire :A : \"Oui je l\\'ai mangé. C\\'était drôlement bon !\"\\nB : \"J\\'ai vu A manger le poisson !\"\\nC : \"B et moi n\\'y avons pas touché.\"L\\'un d\\'entre eux vous ment, mais qui ?', 'solution': 'La réponse est C.', 'resolution': \"Le menteur est le frère C. A et C se sont partagés votre dîner.La réponse devient évidente quand on réalise que si A ment, alors B ment obligatoirement. Le même raisonnement a lieu si l'on considère que B ment. La seule réponse possible est donc que C est en train de mentir, ce qui implique que C a également touché au poisson.\"}\n"
     ]
    }
   ],
   "source": [
    "# Initialiser le dictionnaire de listes\n",
    "data = {\n",
    "    'title': title,\n",
    "    'number': num_enigme,\n",
    "    'enonce': enigme_enonce,\n",
    "    'solution': reponse,\n",
    "    'resolution': resolution_enonce\n",
    "}\n",
    "# Afficher le dictionnaire\n",
    "print(data)"
   ]
  },
  {
   "cell_type": "markdown",
   "id": "c017b1ed-4d99-489c-86f6-831bd5e9088e",
   "metadata": {},
   "source": [
    "____"
   ]
  },
  {
   "cell_type": "markdown",
   "id": "f921ad53-ee68-4b67-973f-2623d9f5499b",
   "metadata": {},
   "source": [
    "<div style=\"text-align: center;\">\n",
    "    <img src=\"../images/learner_scraping.png\" width=\"300\" height=\"300\">\n",
    "</div>"
   ]
  },
  {
   "cell_type": "markdown",
   "id": "a29aed40-5f08-4296-894b-a8b521d22594",
   "metadata": {},
   "source": [
    "Et voilà c'est fini ! On a réalisé notre premier scraping ! "
   ]
  },
  {
   "cell_type": "markdown",
   "id": "0d7387a7-921e-4ba5-b75e-b5d6ce70a10c",
   "metadata": {},
   "source": [
    "___"
   ]
  },
  {
   "cell_type": "markdown",
   "id": "a7048a99-f382-4a77-8903-1d0894fa5e58",
   "metadata": {},
   "source": [
    "## Activité 1b : Récupérer une énigme du Professeur Layton avec BeautifulSoup"
   ]
  },
  {
   "cell_type": "markdown",
   "id": "04028ab5-8175-4645-9928-e2118a157d2c",
   "metadata": {},
   "source": [
    "On va réaliser le même scraping mais cette fois-ci avec BeautifulSoup."
   ]
  },
  {
   "cell_type": "markdown",
   "id": "7e864852-a2ae-4ade-b39c-5b22ce681b9d",
   "metadata": {},
   "source": [
    "#### Import des modules python"
   ]
  },
  {
   "cell_type": "code",
   "execution_count": 12,
   "id": "b32e7519-3981-4e11-91a2-d9f313eadeac",
   "metadata": {},
   "outputs": [],
   "source": [
    "# Import des bibliothèques\n",
    "from bs4 import BeautifulSoup, Tag\n",
    "from typing import List\n",
    "import requests\n",
    "import random\n",
    "import pandas as pd"
   ]
  },
  {
   "cell_type": "markdown",
   "id": "e1a05b38-e998-4ee4-90ae-3c148945110f",
   "metadata": {},
   "source": [
    "#### Lancement d'une requête permettant de récupérer tout le code source de l'url à scraper"
   ]
  },
  {
   "cell_type": "markdown",
   "id": "2fdbdebc-af86-4521-8567-8837b77f7201",
   "metadata": {},
   "source": [
    "Pour se connecter au site internet, on va agir différement. Cette fois si on va utiliser le module requests qui envoie des requêtes HTTP, ce qui permet de récupérer le contenu des pages web."
   ]
  },
  {
   "cell_type": "code",
   "execution_count": 13,
   "id": "fb2426fc-21e0-4594-ab51-6b666e2fcd61",
   "metadata": {},
   "outputs": [],
   "source": [
    "url = \"https://professeur-layton.fandom.com/fr/wiki/En_queue_de_poisson\"\n",
    "# Envoie d'une requête HTTP GET \n",
    "data  = requests.get(url)"
   ]
  },
  {
   "cell_type": "markdown",
   "id": "75558b7d-bf74-4918-8d02-5e2e29fc35e8",
   "metadata": {},
   "source": [
    "La ligne suivante permet de vérifier si la requête a réussi. Le code de statut 200 indique un succès, tandis que d'autres codes (comme 404 ou 500) indiquent des erreurs :"
   ]
  },
  {
   "cell_type": "code",
   "execution_count": 14,
   "id": "4511cc77-2243-4659-b2eb-2d34682daab1",
   "metadata": {},
   "outputs": [
    {
     "data": {
      "text/plain": [
       "200"
      ]
     },
     "execution_count": 14,
     "metadata": {},
     "output_type": "execute_result"
    }
   ],
   "source": [
    "data.status_code"
   ]
  },
  {
   "cell_type": "markdown",
   "id": "08f13f10-df23-4e14-ad07-e28738773f91",
   "metadata": {},
   "source": [
    "On a bien le code 200, on peut donc passer à la récupération du contenu HTML de la page web : "
   ]
  },
  {
   "cell_type": "code",
   "execution_count": 15,
   "id": "67b12774-33ea-4cae-a84f-744e600d4788",
   "metadata": {},
   "outputs": [],
   "source": [
    "# Permet de récupérer le contenu de la réponse à la requête GET sous la forme de texte brut (HTML)\n",
    "data  = requests.get(url).text\n",
    "# Création d'un objet BeautifulSoup à l'aide du parser html5lib qui va interpréter le HTML brut contenu dans data\n",
    "soup = BeautifulSoup(data,\"html5lib\")\n",
    "#soup = BeautifulSoup(data,\"html.parser\")"
   ]
  },
  {
   "cell_type": "markdown",
   "id": "3f305b45-1598-40dc-97ae-d6d2a09f3a26",
   "metadata": {},
   "source": [
    "`soup` est l'objet BeautifulSoup résultant qui permet de naviguer et de manipuler facilement la structure du document HTML."
   ]
  },
  {
   "cell_type": "markdown",
   "id": "0c615aae-9c55-4615-99b5-47f661218d68",
   "metadata": {},
   "source": [
    "#### Afficher le code source de la page"
   ]
  },
  {
   "cell_type": "code",
   "execution_count": 16,
   "id": "50d1fc48-d0ae-4518-91ca-33ce3da52a83",
   "metadata": {},
   "outputs": [],
   "source": [
    "#print(soup.prettify())"
   ]
  },
  {
   "cell_type": "markdown",
   "id": "8ead3f57-2b0f-4d39-b084-098eece9aa66",
   "metadata": {},
   "source": [
    "#### Récupération des éléments Web à partir du soup.prettify"
   ]
  },
  {
   "cell_type": "code",
   "execution_count": 17,
   "id": "a844c282-8d39-4138-93de-732b8208a0ad",
   "metadata": {},
   "outputs": [],
   "source": [
    "# Extraction du titre et de l'URL de l'énigme\n",
    "title = soup.find('meta', attrs={'property': \"og:title\"}).get(\"content\")\n",
    "url_enigme = soup.find('meta', attrs={'property': \"og:url\"}).get(\"content\")\n",
    "\n",
    "#print(title, \"\\n\")\n",
    "#print(url_enigme)\n",
    "\n",
    "# Extraction du numéro dans la table associée à \"Professeur Layton et l'Étrange Village\"\n",
    "numero = soup.find('a', title=\"Professeur Layton et l'Étrange Village\").find_parent('tr').find_next_sibling('tr').find('td').text.strip()\n",
    "#print(numero, \"\\n\")\n",
    "\n",
    "# Fonction pour extraire le texte entre un titre donné et le titre suivant\n",
    "def extract_text_between(start_id: str, start_tag: str, stop_tag: str) -> str:\n",
    "    # Trouver l'élément de départ à partir de l'ID du span et de son tag parent\n",
    "    start_element:Tag = soup.find('span', id=start_id).find_parent(start_tag)\n",
    "    # Initialiser une liste vide pour collecter le texte\n",
    "    text_list: List[str] = []\n",
    "    # Itérer sur tous les éléments suivants du même niveau\n",
    "    for sibling in start_element.find_next_siblings():\n",
    "        if sibling.name == stop_tag:  # Arrêter si on atteint l'élément de fin\n",
    "            break\n",
    "        if sibling.name in ['p', 'ul']:  # Collecter le texte des éléments <p> et <ul>\n",
    "            text_list.append(sibling.get_text())\n",
    "    # Joindre le texte collecté en une seule chaîne de caractères\n",
    "    return \"\\n\".join(text_list)\n",
    "\n",
    "# Extraction de l'énoncé et de la résolution\n",
    "enigme_enonce = extract_text_between('Énoncé', 'h2', 'h2')\n",
    "reponse = extract_text_between('Résolution', 'h3', 'h3')\n",
    "\n",
    "\n",
    "#print(enigme_enonce)\n",
    "#print(reponse)"
   ]
  },
  {
   "cell_type": "markdown",
   "id": "49013717-3000-4bbf-857b-c77ff0b6daa6",
   "metadata": {},
   "source": [
    "Précisions : \n",
    "- Le préfixe \"og\" dans og:title et og:url fait référence aux Open Graph Protocol (OGP), un standard utilisé pour structurer et enrichir les métadonnées des pages web. Ce protocole a été initialement développé par Facebook, mais il est maintenant largement utilisé par diverses plateformes de réseaux sociaux et moteurs de recherche pour mieux comprendre et afficher les informations d'une page web lorsqu'elle est partagée."
   ]
  },
  {
   "cell_type": "markdown",
   "id": "b897e1c6-e331-4e0b-939e-95cb6d1f7db3",
   "metadata": {},
   "source": [
    "`numero = soup.find('a', title=\"Professeur Layton et l'Étrange Village\").find_parent('tr').find_next_sibling('tr').find('td').text.strip()`:\n",
    "- Trouve la balise `<a>` où l'attribut title est égal à \"Professeur Layton et l'Étrange Village\". Cette balise correspond à un lien hypertexte pointant vers \"Professeur Layton et l'Étrange Village\".\n",
    "- `.find_parent('tr')` : Trouve l'élément parent de cette balise `<a>` qui est une balise `<tr>` (ligne de tableau).\n",
    "- `.find_next_sibling('tr')` : Trouve l'élément suivant au même niveau que cette balise `<tr>`, qui est la prochaine balise `<tr>`. Cela correspond à la ligne suivante dans le tableau.\n",
    "- `.find('td')` : Trouve la première cellule `<td>` de cette nouvelle ligne `<tr>`, qui contient probablement le numéro de l'énigme.\n",
    "- `.text.strip()` : Extrait le texte contenu dans cette cellule `<td>` et supprime les espaces blancs en début et en fin de texte avec `strip()`."
   ]
  },
  {
   "cell_type": "code",
   "execution_count": 18,
   "id": "5e23c021-0b03-457e-9216-634fb285b55f",
   "metadata": {},
   "outputs": [
    {
     "name": "stdout",
     "output_type": "stream",
     "text": [
      "{'title': 'En queue de poisson', 'number': '053', 'description': 'Alors que vous aviez le dos tourné, quelqu\\'un a englouti le poisson que vous vous étiez préparé pour le dîner. Trois frères se trouvent à proximité des lieux du crime. Voici ce qu\\'ils ont a dire\\xa0:\\n\\nA\\xa0: \"Oui je l\\'ai mangé. C\\'était drôlement bon\\xa0!\"\\nB\\xa0: \"J\\'ai vu A manger le poisson\\xa0!\"\\nC\\xa0: \"B et moi n\\'y avons pas touché.\"\\n\\nL\\'un d\\'entre eux vous ment, mais qui\\xa0?\\n', 'solution': \"Le menteur est le frère C. A et C se sont partagés votre dîner.\\n\\nLa réponse devient évidente quand on réalise que si A ment, alors B ment obligatoirement. Le même raisonnement a lieu si l'on considère que B ment. La seule réponse possible est donc que C est en train de mentir, ce qui implique que C a également touché au poisson.\\n\"}\n"
     ]
    }
   ],
   "source": [
    "# Initialiser le dictionnaire de listes\n",
    "data = {\n",
    "    'title': title,\n",
    "    'number': numero,\n",
    "    'description': enigme_enonce,\n",
    "    'solution': reponse\n",
    "}\n",
    "# Afficher le dictionnaire\n",
    "print(data)"
   ]
  },
  {
   "cell_type": "markdown",
   "id": "adebb85d-39d2-4ad9-911b-a924bfaef520",
   "metadata": {},
   "source": [
    "___\n",
    "On récupère bien le même résultat, c'est réussi !"
   ]
  },
  {
   "cell_type": "markdown",
   "id": "7a4dd990-fa58-4cf6-9872-dff74dee60f9",
   "metadata": {},
   "source": [
    "___"
   ]
  },
  {
   "cell_type": "markdown",
   "id": "554e1d8f-bc56-4983-9a92-77de004197cc",
   "metadata": {},
   "source": [
    "## Activité 2 : Généralisation à plusieurs énigmes avec Selenium"
   ]
  },
  {
   "cell_type": "markdown",
   "id": "d43d8eda-e97b-483e-af57-7e536dfae28e",
   "metadata": {},
   "source": [
    "Pour cette activité, nous allons créer un tableau plus complet et pour plusieurs énigmes.\n",
    "\n",
    "Cette fois-ci, on veut un tableau qui contiendra les colonnes suivantes : `title`, `num_enigme`, `url`, `image`, `enigme`, `solution` pour 5 énigmes.\n",
    "\n",
    "Nous allons fournir la première partie pour sélectionner 5 énigmes. On commence par aller sur une page qui contient les liens vers toutes les énigmes du jeu : "
   ]
  },
  {
   "cell_type": "code",
   "execution_count": 19,
   "id": "9f634526-7127-4d53-b0b5-525f835c9cd1",
   "metadata": {},
   "outputs": [],
   "source": [
    "url = \"https://professeur-layton.fandom.com/fr/wiki/Cat%C3%A9gorie:%C3%89nigmes\""
   ]
  },
  {
   "cell_type": "markdown",
   "id": "5f59277a-b7ec-42b5-8a6b-d33fc1bbb858",
   "metadata": {},
   "source": [
    "On se connecte en mode \"headless\" pour gagner quelques lignes de code :"
   ]
  },
  {
   "cell_type": "code",
   "execution_count": 20,
   "id": "5d1808ba-8ad9-4262-9372-9a60eea9ac93",
   "metadata": {},
   "outputs": [],
   "source": [
    "# Création d'une instance des options Chrome\n",
    "chrome_options = Options()\n",
    "\n",
    "# Définition des options Chrome \n",
    "chrome_options.add_argument('--disable-search-engine-choice-screen') \n",
    "chrome_options.add_argument('--disable-infobars')\n",
    "chrome_options.add_argument('--headless=new')\n",
    "# Création d'une nouvelle instance du navigateur Chrome avec les options spécifiées\n",
    "driver = webdriver.Chrome(options=chrome_options)\n",
    "driver.get(url)"
   ]
  },
  {
   "cell_type": "markdown",
   "id": "c9219a6a-fdcf-4ac0-80ae-93909616ad50",
   "metadata": {},
   "source": [
    "On récupère tous les liens de type href vers les énigmes grâce à un sélecteur type CSS_Selector : "
   ]
  },
  {
   "cell_type": "code",
   "execution_count": 27,
   "id": "bc80280b-fcc1-4fa2-a2bf-31ef1ad50584",
   "metadata": {},
   "outputs": [],
   "source": [
    "# Récupérer tous les éléments <a> avec la classe \"category-page__member-link\"\n",
    "elements = driver.find_elements(By.CSS_SELECTOR, \"a.category-page__member-link\")\n",
    "# Extraire les hrefs des éléments trouvés\n",
    "hrefs = [element.get_attribute(\"href\") for element in elements]"
   ]
  },
  {
   "cell_type": "markdown",
   "id": "e7eb56e1-5db2-4100-a4ee-4f11c1863afb",
   "metadata": {},
   "source": [
    "On extrait aléatoirement une liste de 3 liens (pour éviter d'avoir un code trop long et de surcharger le wiki en requêtes) :"
   ]
  },
  {
   "cell_type": "code",
   "execution_count": 28,
   "id": "f63e31ad-36a8-433d-9065-50f31b3502fd",
   "metadata": {},
   "outputs": [],
   "source": [
    "# Sélectionner aléatoirement 5 hrefs\n",
    "hrefs = random.sample(hrefs, 3)"
   ]
  },
  {
   "cell_type": "code",
   "execution_count": 29,
   "id": "1ee9b0bd-497d-4cb3-85ce-d29572411490",
   "metadata": {},
   "outputs": [
    {
     "data": {
      "text/plain": [
       "['https://professeur-layton.fandom.com/fr/wiki/Symbole_du_temps',\n",
       " 'https://professeur-layton.fandom.com/fr/wiki/Pi%C3%A8ces_jaunes',\n",
       " 'https://professeur-layton.fandom.com/fr/wiki/Dans_le_Petri']"
      ]
     },
     "execution_count": 29,
     "metadata": {},
     "output_type": "execute_result"
    }
   ],
   "source": [
    "hrefs"
   ]
  },
  {
   "cell_type": "markdown",
   "id": "297d4b71-086d-4b81-b980-b3d80c84c726",
   "metadata": {},
   "source": [
    "On va ensuite créer une fonction qui pour chaque lien récupère les données qui nous intéressent : "
   ]
  },
  {
   "cell_type": "code",
   "execution_count": 32,
   "id": "abcb75c6-4b7d-402a-af1e-f0dcda386a32",
   "metadata": {},
   "outputs": [],
   "source": [
    "from selenium.common.exceptions import NoSuchElementException\n",
    "\n",
    "def collecte_enigme(href):\n",
    "    url = href\n",
    "    \n",
    "    # Configuration du navigateur (Chrome dans cet exemple)\n",
    "    options = Options()\n",
    "    options.add_argument(\"--headless\")  # Exécuter Chrome en mode headless\n",
    "    chrome_options.add_argument('--disable-search-engine-choice-screen') \n",
    "    chrome_options.add_argument('--disable-infobars')\n",
    "    driver = webdriver.Chrome(options=options)\n",
    "    \n",
    "    # Ouvrir la page web\n",
    "    driver.get(url)\n",
    "    time.sleep(3)\n",
    "    try:\n",
    "        cookie = driver.find_element(By.XPATH ,'/html/body/div[7]/div/div/div[2]/div[2]/div[1]')\n",
    "        cookie.click()\n",
    "    except :\n",
    "        pass\n",
    "    try : \n",
    "        # Récupération du titre :\n",
    "        title = driver.find_element(By.ID, 'firstHeading')\n",
    "        title = title.text\n",
    "    except : \n",
    "        title = None\n",
    "    try:\n",
    "        time.sleep(4)\n",
    "        num_enigme = driver.find_element(By.XPATH ,'//*[@id=\"mw-content-text\"]/div/div[1]/div[2]/table/tbody/tr[4]/td')\n",
    "        num_enigme = num_enigme.text\n",
    "       \n",
    "    except :\n",
    "        num_enigme = None\n",
    "    try:\n",
    "        \n",
    "        # Récupération de l'image\n",
    "        image_element = driver.find_element(By.CSS_SELECTOR, 'div.floatnone img')\n",
    "        image = image_element.get_attribute(\"src\")\n",
    "    \n",
    "    except:\n",
    "        image=None\n",
    "    \n",
    "    # Récupération de l'énoncé de l'énigme :\n",
    "    enigme_enonce = None\n",
    "    try : \n",
    "        enonce = driver.find_element(By.ID, \"Énoncé\")\n",
    "        enigme_enonce = enonce.find_elements(By.XPATH, \"//span[@class='mw-headline' and @id='Énoncé']/ancestor::h2/following-sibling::p[following-sibling::h2]\")\n",
    "        enigme_enonce = \"\".join([elem.text for elem in enigme_enonce])\n",
    "    except NoSuchElementException:\n",
    "        enigme_enonce = image\n",
    "        \n",
    "    resolution_title = None\n",
    "    \n",
    "    try:\n",
    "        resolution_title = driver.find_element(By.ID, \"Résolution\")\n",
    "        resolution = resolution_title.find_elements(By.XPATH, \"//span[@class='mw-headline' and @id='Résolution']/ancestor::h3/following-sibling::p[following-sibling::h3]\")\n",
    "        resolution = \"\\n\".join([elem.text for elem in resolution])\n",
    "    except Exception:\n",
    "        try:\n",
    "            solution = driver.find_element(By.ID, \"Solution\")\n",
    "            # Chercher le premier 'div' frère de 'Solution' qui contient le diaporama\n",
    "            slideshow_div = solution.find_element(By.XPATH, '//*[@id=\"slideshow-0\"]/div/div[1]')\n",
    "\n",
    "            # Localiser l'image spécifique à l'intérieur de ce diaporama\n",
    "            image_element = slideshow_div.find_element(By.XPATH, './/img[@class=\"thumbimage\"]')\n",
    "            image_url = image_element.get_attribute('src')\n",
    "            resolution = image_url\n",
    "            \n",
    "        except : \n",
    "            text_elements = solution.find_elements(By.XPATH, 'following::p')\n",
    "            resolution = \"\\n\".join([elem.text for elem in text_elements])\n",
    " \n",
    "    # Création du DataFrame\n",
    "    return pd.DataFrame([{'title': title, 'num_enigme':num_enigme, 'url': url, 'image': image, 'enigme': enigme_enonce, 'solution': resolution}])\n"
   ]
  },
  {
   "cell_type": "markdown",
   "id": "966e3830-f1c2-42bf-9b7e-506fea7f6297",
   "metadata": {},
   "source": [
    "On utilise ensuite cette fonction pour créer notre DataFrame :"
   ]
  },
  {
   "cell_type": "code",
   "execution_count": 31,
   "id": "2d27d775-f810-4b80-858b-254fce45c216",
   "metadata": {},
   "outputs": [
    {
     "name": "stdout",
     "output_type": "stream",
     "text": [
      "Scraping de la page https://professeur-layton.fandom.com/fr/wiki/Symbole_du_temps en cours...\n",
      "Scraping de la page https://professeur-layton.fandom.com/fr/wiki/Pi%C3%A8ces_jaunes en cours...\n",
      "Scraping de la page https://professeur-layton.fandom.com/fr/wiki/Dans_le_Petri en cours...\n",
      "Fin du Scraping\n"
     ]
    }
   ],
   "source": [
    "df_final = pd.DataFrame()\n",
    "for href in hrefs:\n",
    "    print(\"Scraping de la page\", href, \"en cours...\")\n",
    "    df_final = pd.concat([df_final, collecte_enigme(href)], ignore_index=True)\n",
    "print(\"Fin du Scraping\")"
   ]
  },
  {
   "cell_type": "code",
   "execution_count": 33,
   "id": "97e0937c-cf38-4dd1-b00a-e269a9f0b022",
   "metadata": {},
   "outputs": [
    {
     "data": {
      "text/html": [
       "<div>\n",
       "<style scoped>\n",
       "    .dataframe tbody tr th:only-of-type {\n",
       "        vertical-align: middle;\n",
       "    }\n",
       "\n",
       "    .dataframe tbody tr th {\n",
       "        vertical-align: top;\n",
       "    }\n",
       "\n",
       "    .dataframe thead th {\n",
       "        text-align: right;\n",
       "    }\n",
       "</style>\n",
       "<table border=\"1\" class=\"dataframe\">\n",
       "  <thead>\n",
       "    <tr style=\"text-align: right;\">\n",
       "      <th></th>\n",
       "      <th>title</th>\n",
       "      <th>num_enigme</th>\n",
       "      <th>url</th>\n",
       "      <th>image</th>\n",
       "      <th>enigme</th>\n",
       "      <th>solution</th>\n",
       "    </tr>\n",
       "  </thead>\n",
       "  <tbody>\n",
       "    <tr>\n",
       "      <th>0</th>\n",
       "      <td>Symbole du temps</td>\n",
       "      <td>005</td>\n",
       "      <td>https://professeur-layton.fandom.com/fr/wiki/S...</td>\n",
       "      <td>https://static.wikia.nocookie.net/layton/image...</td>\n",
       "      <td>Layton et Luke sont arrivés devant l'horlogeri...</td>\n",
       "      <td>Beau travail!\\nEn regardant de plus près, on d...</td>\n",
       "    </tr>\n",
       "    <tr>\n",
       "      <th>1</th>\n",
       "      <td>Pièces jaunes</td>\n",
       "      <td>041</td>\n",
       "      <td>https://professeur-layton.fandom.com/fr/wiki/P...</td>\n",
       "      <td>https://static.wikia.nocookie.net/layton/image...</td>\n",
       "      <td>Une ficelle et des pièces sont placées comme c...</td>\n",
       "      <td>Bonne réponse !\\nVous allez récupérer neuf piè...</td>\n",
       "    </tr>\n",
       "    <tr>\n",
       "      <th>2</th>\n",
       "      <td>Dans le Petri</td>\n",
       "      <td>026</td>\n",
       "      <td>https://professeur-layton.fandom.com/fr/wiki/D...</td>\n",
       "      <td>https://static.wikia.nocookie.net/layton/image...</td>\n",
       "      <td>Un microbe se trouve dans une bouteille. Au bo...</td>\n",
       "      <td>La réponse est 59 minutes.\\nUn microbe a besoi...</td>\n",
       "    </tr>\n",
       "  </tbody>\n",
       "</table>\n",
       "</div>"
      ],
      "text/plain": [
       "              title num_enigme  \\\n",
       "0  Symbole du temps        005   \n",
       "1     Pièces jaunes        041   \n",
       "2     Dans le Petri        026   \n",
       "\n",
       "                                                 url  \\\n",
       "0  https://professeur-layton.fandom.com/fr/wiki/S...   \n",
       "1  https://professeur-layton.fandom.com/fr/wiki/P...   \n",
       "2  https://professeur-layton.fandom.com/fr/wiki/D...   \n",
       "\n",
       "                                               image  \\\n",
       "0  https://static.wikia.nocookie.net/layton/image...   \n",
       "1  https://static.wikia.nocookie.net/layton/image...   \n",
       "2  https://static.wikia.nocookie.net/layton/image...   \n",
       "\n",
       "                                              enigme  \\\n",
       "0  Layton et Luke sont arrivés devant l'horlogeri...   \n",
       "1  Une ficelle et des pièces sont placées comme c...   \n",
       "2  Un microbe se trouve dans une bouteille. Au bo...   \n",
       "\n",
       "                                            solution  \n",
       "0  Beau travail!\\nEn regardant de plus près, on d...  \n",
       "1  Bonne réponse !\\nVous allez récupérer neuf piè...  \n",
       "2  La réponse est 59 minutes.\\nUn microbe a besoi...  "
      ]
     },
     "execution_count": 33,
     "metadata": {},
     "output_type": "execute_result"
    }
   ],
   "source": [
    "pd.set_option('display.max_row', 5)\n",
    "pd.set_option('display.max_column', 6)\n",
    "df_final"
   ]
  },
  {
   "cell_type": "code",
   "execution_count": 34,
   "id": "bd607177-74c7-41b9-8442-ba5eeac7b989",
   "metadata": {},
   "outputs": [],
   "source": [
    "#Permet de mettre fin au driver\n",
    "driver.quit()"
   ]
  },
  {
   "cell_type": "markdown",
   "id": "92163375-fd98-47d7-9f1f-02ef3ce61d00",
   "metadata": {},
   "source": [
    "## Activité 2 BONUS : Généralisation à plusieurs énigmes avec BeautifulSoup"
   ]
  },
  {
   "cell_type": "code",
   "execution_count": 35,
   "id": "0c0f8d6d-6342-4a7e-9386-de1b6057a1f6",
   "metadata": {},
   "outputs": [],
   "source": [
    "import random"
   ]
  },
  {
   "cell_type": "markdown",
   "id": "aa3a73f1-7f1d-4772-8bb0-a77624b5b1e6",
   "metadata": {},
   "source": [
    "#### Lancement d'une requête permettant de récupérer tout le code source de l'url à scraper"
   ]
  },
  {
   "cell_type": "code",
   "execution_count": 36,
   "id": "6b107ff9-1051-4bff-bfd9-af8824328b6b",
   "metadata": {},
   "outputs": [],
   "source": [
    "url = \"https://professeur-layton.fandom.com/fr/wiki/Cat%C3%A9gorie:%C3%89nigmes\"\n",
    "data  = requests.get(url).text\n",
    "soup = BeautifulSoup(data,\"html5lib\")"
   ]
  },
  {
   "cell_type": "markdown",
   "id": "80ecca56-e498-4c9b-8749-eb9f39025349",
   "metadata": {},
   "source": [
    "#### Afficher le code source de la page"
   ]
  },
  {
   "cell_type": "code",
   "execution_count": 38,
   "id": "b45dc254-8e02-4e3b-aa78-297b2c1a621d",
   "metadata": {},
   "outputs": [],
   "source": [
    "#print(soup.prettify())"
   ]
  },
  {
   "cell_type": "markdown",
   "id": "fb1ea655-d96a-4e0d-882a-7d789e1d39ec",
   "metadata": {},
   "source": [
    "#### Récuperer tous les liens des énigmes et n'en prendre que 5 aléatoirement"
   ]
  },
  {
   "cell_type": "code",
   "execution_count": 39,
   "id": "b0c547ee-5a10-4401-b070-b8d08e66f6aa",
   "metadata": {},
   "outputs": [],
   "source": [
    "# Trouver tous les éléments <a> avec la classe \"category-page__member-link\"\n",
    "links = soup.find_all('a', class_='category-page__member-link')\n",
    "\n",
    "# Extraire les attributs href\n",
    "hrefs = [link.get('href') for link in links]\n",
    "\n",
    "# Afficher les hrefs\n",
    "#print(hrefs)\n",
    "#print(len(hrefs))\n",
    "\n",
    "# Sélectionner aléatoirement 5 hrefs\n",
    "hrefs = random.sample(hrefs, 5)\n",
    "\n",
    "# Afficher les hrefs sélectionnés aléatoirement\n",
    "#print(random_hrefs)\n",
    "#print(len(random_hrefs))"
   ]
  },
  {
   "cell_type": "code",
   "execution_count": 40,
   "id": "b63c7db5-30b8-48c3-b298-fc09bb6e313a",
   "metadata": {},
   "outputs": [
    {
     "data": {
      "text/plain": [
       "['/fr/wiki/Mise_en_plis',\n",
       " '/fr/wiki/Les_aiguilles_du_temps',\n",
       " '/fr/wiki/Embouteillages',\n",
       " '/fr/wiki/In%C3%A9quations_%3F',\n",
       " '/fr/wiki/Groom_service']"
      ]
     },
     "execution_count": 40,
     "metadata": {},
     "output_type": "execute_result"
    }
   ],
   "source": [
    "hrefs"
   ]
  },
  {
   "cell_type": "markdown",
   "id": "a64fd639-3e47-48a7-895c-8c4357dd072d",
   "metadata": {},
   "source": [
    "#### Créons une fonction permettant de répéter les étapes d'extraction de données"
   ]
  },
  {
   "cell_type": "code",
   "execution_count": 41,
   "id": "df501c30-439c-4881-86b0-4d2be844c172",
   "metadata": {},
   "outputs": [],
   "source": [
    "def collecte_enigme(racine, href):\n",
    "    url = racine + href\n",
    "    soup = BeautifulSoup(requests.get(url).text, \"html.parser\")\n",
    "\n",
    "    # Extraction des métadonnées\n",
    "    title = soup.find('meta', property=\"og:title\").get(\"content\")\n",
    "    url_enigme = soup.find('meta', property=\"og:url\").get(\"content\")\n",
    "    \n",
    "    # Récupération de l'image (src le plus long)\n",
    "    src_urls = [tag['src'] for tag in soup.find_all(src=True)]\n",
    "    image = max(src_urls, key=len, default=None)\n",
    "    \n",
    "    # Récupération de l'énigme\n",
    "    enigme = None\n",
    "    try:\n",
    "        start_element = soup.find('span', id='Énoncé').find_parent('h2')\n",
    "        enigme = \"\\n\".join(\n",
    "            sibling.get_text() for sibling in start_element.find_next_siblings() \n",
    "            if sibling.name in ['p', 'ul'] and sibling.name != 'h2'\n",
    "        )\n",
    "    except:\n",
    "        enigme = image\n",
    "    \n",
    "    # Récupération de la réponse\n",
    "    try:\n",
    "        reponse = soup.find('span', class_='mw-headline', id='Solution').find_next('p').get_text(strip=True)\n",
    "    except:\n",
    "        reponse = soup.find('a', class_='image')\n",
    "        reponse = reponse.get('href') if reponse else \"La réponse n'a pas été loadée correctement\"\n",
    "    \n",
    "    # Récupération des indices\n",
    "    indices = [\n",
    "        content.get_text(strip=True)\n",
    "        for tab, content in zip(soup.select('ul.wds-tabs li.wds-tabs__tab a'), soup.select('div.wds-tab__content'))\n",
    "        if content.select_one('div[style*=\"overflow-y:auto\"]')\n",
    "    ]\n",
    "\n",
    "    # Création du DataFrame\n",
    "    return pd.DataFrame([{'title': title, 'url': url_enigme, 'image': image, 'enigme': enigme, 'indices': indices, 'solution': reponse}])\n"
   ]
  },
  {
   "cell_type": "markdown",
   "id": "ab2a839e-1db8-4d74-9a8b-802bf0892707",
   "metadata": {},
   "source": [
    "#### Utilisation de la fonction et stockage dans un DataFrame"
   ]
  },
  {
   "cell_type": "code",
   "execution_count": 42,
   "id": "57b83f25-c3b8-49c1-bb69-e5d43993dc1e",
   "metadata": {},
   "outputs": [],
   "source": [
    "racine = \"https://professeur-layton.fandom.com\"\n",
    "df_final = pd.DataFrame()\n",
    "for href in hrefs:\n",
    "    df_final = pd.concat([df_final, collecte_enigme(racine,href)], ignore_index=True)"
   ]
  },
  {
   "cell_type": "markdown",
   "id": "145124c0-949a-435a-b620-98c23523a31a",
   "metadata": {},
   "source": [
    "#### Visualisation"
   ]
  },
  {
   "cell_type": "code",
   "execution_count": 43,
   "id": "059c5314-9042-4de1-8e89-0396335db08c",
   "metadata": {},
   "outputs": [
    {
     "data": {
      "text/html": [
       "<div>\n",
       "<style scoped>\n",
       "    .dataframe tbody tr th:only-of-type {\n",
       "        vertical-align: middle;\n",
       "    }\n",
       "\n",
       "    .dataframe tbody tr th {\n",
       "        vertical-align: top;\n",
       "    }\n",
       "\n",
       "    .dataframe thead th {\n",
       "        text-align: right;\n",
       "    }\n",
       "</style>\n",
       "<table border=\"1\" class=\"dataframe\">\n",
       "  <thead>\n",
       "    <tr style=\"text-align: right;\">\n",
       "      <th></th>\n",
       "      <th>title</th>\n",
       "      <th>url</th>\n",
       "      <th>image</th>\n",
       "      <th>enigme</th>\n",
       "      <th>indices</th>\n",
       "      <th>solution</th>\n",
       "    </tr>\n",
       "  </thead>\n",
       "  <tbody>\n",
       "    <tr>\n",
       "      <th>0</th>\n",
       "      <td>Mise en plis</td>\n",
       "      <td>https://professeur-layton.fandom.com/fr/wiki/M...</td>\n",
       "      <td>https://static.wikia.nocookie.net/layton/image...</td>\n",
       "      <td>Une ville ne compte que deux coiffeurs. Il n'y...</td>\n",
       "      <td>[Vous ne vous coupez pas les cheveux vous-même...</td>\n",
       "      <td>La réponse est le coiffeur A.</td>\n",
       "    </tr>\n",
       "    <tr>\n",
       "      <th>1</th>\n",
       "      <td>Les aiguilles du temps</td>\n",
       "      <td>https://professeur-layton.fandom.com/fr/wiki/L...</td>\n",
       "      <td>https://static.wikia.nocookie.net/layton/image...</td>\n",
       "      <td>L'horloge indique actuellement 15 h 30. Cela s...</td>\n",
       "      <td>[Il n'est pas nécessaire de toucher les aiguil...</td>\n",
       "      <td>La réponse est 00, car il faut juste attendre ...</td>\n",
       "    </tr>\n",
       "    <tr>\n",
       "      <th>2</th>\n",
       "      <td>Embouteillages</td>\n",
       "      <td>https://professeur-layton.fandom.com/fr/wiki/E...</td>\n",
       "      <td>https://static.wikia.nocookie.net/layton/image...</td>\n",
       "      <td>La Laytonmobile, le bijou du professeur, est c...</td>\n",
       "      <td>[Cela ne sert à rien d'essayer de libérer la v...</td>\n",
       "      <td>Beau travail !</td>\n",
       "    </tr>\n",
       "    <tr>\n",
       "      <th>3</th>\n",
       "      <td>Inéquations ?</td>\n",
       "      <td>https://professeur-layton.fandom.com/fr/wiki/I...</td>\n",
       "      <td>https://static.wikia.nocookie.net/layton/image...</td>\n",
       "      <td>Eh bien, on dirait que quelqu'un a encore écri...</td>\n",
       "      <td>[Au premier coup d'œil, il semble que l'auteur...</td>\n",
       "      <td>La réponse est 1.</td>\n",
       "    </tr>\n",
       "    <tr>\n",
       "      <th>4</th>\n",
       "      <td>Groom service</td>\n",
       "      <td>https://professeur-layton.fandom.com/fr/wiki/G...</td>\n",
       "      <td>https://static.wikia.nocookie.net/layton/image...</td>\n",
       "      <td>Deux portiers doivent prendre six valises dont...</td>\n",
       "      <td>[Puisqu'il y a six valises, il est permis de s...</td>\n",
       "      <td>Beau Travail!</td>\n",
       "    </tr>\n",
       "  </tbody>\n",
       "</table>\n",
       "</div>"
      ],
      "text/plain": [
       "                    title                                                url  \\\n",
       "0            Mise en plis  https://professeur-layton.fandom.com/fr/wiki/M...   \n",
       "1  Les aiguilles du temps  https://professeur-layton.fandom.com/fr/wiki/L...   \n",
       "2          Embouteillages  https://professeur-layton.fandom.com/fr/wiki/E...   \n",
       "3           Inéquations ?  https://professeur-layton.fandom.com/fr/wiki/I...   \n",
       "4           Groom service  https://professeur-layton.fandom.com/fr/wiki/G...   \n",
       "\n",
       "                                               image  \\\n",
       "0  https://static.wikia.nocookie.net/layton/image...   \n",
       "1  https://static.wikia.nocookie.net/layton/image...   \n",
       "2  https://static.wikia.nocookie.net/layton/image...   \n",
       "3  https://static.wikia.nocookie.net/layton/image...   \n",
       "4  https://static.wikia.nocookie.net/layton/image...   \n",
       "\n",
       "                                              enigme  \\\n",
       "0  Une ville ne compte que deux coiffeurs. Il n'y...   \n",
       "1  L'horloge indique actuellement 15 h 30. Cela s...   \n",
       "2  La Laytonmobile, le bijou du professeur, est c...   \n",
       "3  Eh bien, on dirait que quelqu'un a encore écri...   \n",
       "4  Deux portiers doivent prendre six valises dont...   \n",
       "\n",
       "                                             indices  \\\n",
       "0  [Vous ne vous coupez pas les cheveux vous-même...   \n",
       "1  [Il n'est pas nécessaire de toucher les aiguil...   \n",
       "2  [Cela ne sert à rien d'essayer de libérer la v...   \n",
       "3  [Au premier coup d'œil, il semble que l'auteur...   \n",
       "4  [Puisqu'il y a six valises, il est permis de s...   \n",
       "\n",
       "                                            solution  \n",
       "0                      La réponse est le coiffeur A.  \n",
       "1  La réponse est 00, car il faut juste attendre ...  \n",
       "2                                     Beau travail !  \n",
       "3                                  La réponse est 1.  \n",
       "4                                      Beau Travail!  "
      ]
     },
     "execution_count": 43,
     "metadata": {},
     "output_type": "execute_result"
    }
   ],
   "source": [
    "pd.set_option('display.max_row', 7)\n",
    "pd.set_option('display.max_column', 6)\n",
    "df_final"
   ]
  },
  {
   "cell_type": "markdown",
   "id": "be2e582c-54d1-4617-82ae-d05b7ec943bf",
   "metadata": {},
   "source": [
    "# Conclusion"
   ]
  },
  {
   "cell_type": "markdown",
   "id": "137e12c8-22b2-407b-94df-ae5e7601e28d",
   "metadata": {},
   "source": [
    "Nous avons finalement réussi à se constituer un DataFrame à partir d'un site web ! \n",
    "Ce qu'il faut retenir, c'est que BeautifulSoup est très utile pour les sites dit \"ouverts\" et pour de la répetition massive de collecte d'infos."
   ]
  }
 ],
 "metadata": {
  "kernelspec": {
   "display_name": "Python 3 (ipykernel)",
   "language": "python",
   "name": "python3"
  },
  "language_info": {
   "codemirror_mode": {
    "name": "ipython",
    "version": 3
   },
   "file_extension": ".py",
   "mimetype": "text/x-python",
   "name": "python",
   "nbconvert_exporter": "python",
   "pygments_lexer": "ipython3",
   "version": "3.11.7"
  }
 },
 "nbformat": 4,
 "nbformat_minor": 5
}

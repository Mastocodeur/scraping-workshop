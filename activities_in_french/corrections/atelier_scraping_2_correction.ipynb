{
 "cells": [
  {
   "cell_type": "markdown",
   "id": "a90fbc70-106b-4b56-bace-f14aeaab71f3",
   "metadata": {},
   "source": [
    "## Activité 2 : Scraper l'agenda de Datacraft avec Selenium corrigé"
   ]
  },
  {
   "cell_type": "markdown",
   "id": "6fd70d51-bc98-436d-9b72-e1218aca3c5e",
   "metadata": {},
   "source": [
    "<div style=\"text-align: center;\">\n",
    "    <img src=\"../images/agenda_datacraft.png\" width=\"600\" height=\"300\">\n",
    "</div>"
   ]
  },
  {
   "cell_type": "markdown",
   "id": "73460c04-4e10-484d-8e11-f82e905830e1",
   "metadata": {},
   "source": [
    "Pour cette deuxième activité, nous allons scraper l'agenda datacraft : https://datacraft.paris/agenda/\n",
    "\n",
    "Ce que nous voulons, c'est constituer un DataFrame avec les colonnes suivantes : `event_title`, `date`, `hour`, `adress`."
   ]
  },
  {
   "cell_type": "markdown",
   "id": "975f7ce4-4dd5-4251-b466-78d96d591b0d",
   "metadata": {},
   "source": [
    "#### Import des modules"
   ]
  },
  {
   "cell_type": "code",
   "execution_count": 1,
   "id": "4bfe0aee-69a9-4458-9b95-531fff8599ea",
   "metadata": {},
   "outputs": [],
   "source": [
    "# Import des bibliothèques\n",
    "from selenium import webdriver\n",
    "from selenium.webdriver.chrome.options import Options\n",
    "from selenium.webdriver.common.by import By\n",
    "import time\n",
    "import pandas as pd"
   ]
  },
  {
   "cell_type": "markdown",
   "id": "06f0f8b6-6886-4fc9-97e7-25f348be68f3",
   "metadata": {},
   "source": [
    "#### Etablir la connexion avec le site"
   ]
  },
  {
   "cell_type": "code",
   "execution_count": 2,
   "id": "003f647f-3fff-44bd-81a4-3b662d0b3c2b",
   "metadata": {},
   "outputs": [],
   "source": [
    "# Création d'une instance des options Chrome\n",
    "chrome_options = Options()\n",
    "# Définition des options Chrome \n",
    "chrome_options.add_argument('--disable-search-engine-choice-screen') \n",
    "chrome_options.add_argument('--disable-infobars')\n",
    "# Création d'une nouvelle instance du navigateur Chrome avec les options spécifiées\n",
    "driver = webdriver.Chrome(options=chrome_options)\n",
    "# On renseigne l'URL que l'on veut scraper et on l'injecte dans le driver :\n",
    "url = \"https://datacraft.paris/agenda/\"\n",
    "driver.get(url)"
   ]
  },
  {
   "cell_type": "markdown",
   "id": "511a46a3-fb13-4696-a6f6-74e80aa2800d",
   "metadata": {},
   "source": [
    "On attend que la page s'ouvre et charge complètement."
   ]
  },
  {
   "cell_type": "markdown",
   "id": "ec1d59eb-f8d0-488a-ba71-a60743c15840",
   "metadata": {},
   "source": [
    "#### Identification et sélection des éléments"
   ]
  },
  {
   "cell_type": "code",
   "execution_count": 3,
   "id": "d125e4dc-78f9-4ff2-9d7d-e888573daaad",
   "metadata": {},
   "outputs": [],
   "source": [
    "event_title = driver.find_elements(By.CSS_SELECTOR, 'h3.tribe-events-calendar-list__event-title a')\n",
    "event_date = driver.find_elements(By.CSS_SELECTOR, 'time.tribe-events-calendar-list__event-date-tag-datetime')\n",
    "event_hour = driver.find_elements(By.CSS_SELECTOR, '.tribe-events-calendar-list__event-datetime-wrapper .timeshed')\n",
    "event_address =  driver.find_elements(By.CSS_SELECTOR,'.tribe-events-calendar-list__event-venue-address')"
   ]
  },
  {
   "cell_type": "markdown",
   "id": "a6fa98cf-b628-4d79-a70b-cbd394e7017c",
   "metadata": {},
   "source": [
    "#### Création du DataFrame"
   ]
  },
  {
   "cell_type": "code",
   "execution_count": 4,
   "id": "a92a6998-2a34-44ee-a48e-62fb69a370ae",
   "metadata": {},
   "outputs": [
    {
     "data": {
      "text/html": [
       "<div>\n",
       "<style scoped>\n",
       "    .dataframe tbody tr th:only-of-type {\n",
       "        vertical-align: middle;\n",
       "    }\n",
       "\n",
       "    .dataframe tbody tr th {\n",
       "        vertical-align: top;\n",
       "    }\n",
       "\n",
       "    .dataframe thead th {\n",
       "        text-align: right;\n",
       "    }\n",
       "</style>\n",
       "<table border=\"1\" class=\"dataframe\">\n",
       "  <thead>\n",
       "    <tr style=\"text-align: right;\">\n",
       "      <th></th>\n",
       "      <th>event_title</th>\n",
       "      <th>date</th>\n",
       "      <th>hour</th>\n",
       "      <th>address</th>\n",
       "    </tr>\n",
       "  </thead>\n",
       "  <tbody>\n",
       "    <tr>\n",
       "      <th>0</th>\n",
       "      <td>WORKSHOP – Web Scraping: Make the internet you...</td>\n",
       "      <td>2024-08-19</td>\n",
       "      <td>16:00 - 18:00</td>\n",
       "      <td>3 Rue Rossini, 75009 Paris</td>\n",
       "    </tr>\n",
       "    <tr>\n",
       "      <th>1</th>\n",
       "      <td>WORKSHOP – Polars: Faster, Lighter, Smarter</td>\n",
       "      <td>2024-08-26</td>\n",
       "      <td>15:00 - 18:00</td>\n",
       "      <td>3 Rue Rossini, 75009 Paris</td>\n",
       "    </tr>\n",
       "    <tr>\n",
       "      <th>2</th>\n",
       "      <td>WORKSHOP – Time-series forecasting</td>\n",
       "      <td>2024-09-13</td>\n",
       "      <td>09:00 - 12:00</td>\n",
       "      <td>3 Rue Rossini, 75009 Paris</td>\n",
       "    </tr>\n",
       "    <tr>\n",
       "      <th>3</th>\n",
       "      <td>REX – GenAI in prod : practical tech &amp; product...</td>\n",
       "      <td>2024-09-18</td>\n",
       "      <td>18:30 - 19:30</td>\n",
       "      <td>3 Rue Rossini, 75009 Paris</td>\n",
       "    </tr>\n",
       "    <tr>\n",
       "      <th>4</th>\n",
       "      <td>Soirée CDO : L’industrie créative, un modèle i...</td>\n",
       "      <td>2024-09-18</td>\n",
       "      <td>19:00 - 21:00</td>\n",
       "      <td>3 rue rossini, Paris</td>\n",
       "    </tr>\n",
       "    <tr>\n",
       "      <th>5</th>\n",
       "      <td>FORMATION – INITIATION À L’IA GÉNÉRATIVE : DU ...</td>\n",
       "      <td>2024-09-26</td>\n",
       "      <td>09:00 - 17:30</td>\n",
       "      <td>4 place Jussieu, Paris</td>\n",
       "    </tr>\n",
       "    <tr>\n",
       "      <th>6</th>\n",
       "      <td>Soirée data gouv : Comment déterminer l’origin...</td>\n",
       "      <td>2024-10-10</td>\n",
       "      <td>18:30 - 20:00</td>\n",
       "      <td>3 rue rossini, Paris</td>\n",
       "    </tr>\n",
       "    <tr>\n",
       "      <th>7</th>\n",
       "      <td>FORMATION – INITIATION À L’IA GÉNÉRATIVE : DU ...</td>\n",
       "      <td>2024-10-17</td>\n",
       "      <td>09:00 - 17:30</td>\n",
       "      <td>4 place Jussieu, Paris</td>\n",
       "    </tr>\n",
       "    <tr>\n",
       "      <th>8</th>\n",
       "      <td>FORMATION – INITIATION À L’IA GÉNÉRATIVE : DU ...</td>\n",
       "      <td>2024-11-14</td>\n",
       "      <td>09:00 - 17:30</td>\n",
       "      <td>4 place Jussieu, Paris</td>\n",
       "    </tr>\n",
       "    <tr>\n",
       "      <th>9</th>\n",
       "      <td>Speed dating entre étudiants en master IA, doc...</td>\n",
       "      <td>2024-11-14</td>\n",
       "      <td>18:00 - 21:00</td>\n",
       "      <td>4 Place Jussieu, Paris</td>\n",
       "    </tr>\n",
       "    <tr>\n",
       "      <th>10</th>\n",
       "      <td>Atelier Fraude – Forensic et applications de l...</td>\n",
       "      <td>2024-11-15</td>\n",
       "      <td>08:30 - 12:00</td>\n",
       "      <td>3 rue rossini, Paris</td>\n",
       "    </tr>\n",
       "    <tr>\n",
       "      <th>11</th>\n",
       "      <td>Soirée CDO</td>\n",
       "      <td>2024-11-21</td>\n",
       "      <td>19:00 - 21:00</td>\n",
       "      <td>3 rue rossini, Paris</td>\n",
       "    </tr>\n",
       "    <tr>\n",
       "      <th>12</th>\n",
       "      <td>Data Gouv – État de l’art des architectures data</td>\n",
       "      <td>2024-12-10</td>\n",
       "      <td>18:30 - 20:00</td>\n",
       "      <td>3 rue rossini, Paris</td>\n",
       "    </tr>\n",
       "    <tr>\n",
       "      <th>13</th>\n",
       "      <td>FORMATION – INITIATION À L’IA GÉNÉRATIVE : DU ...</td>\n",
       "      <td>2024-12-12</td>\n",
       "      <td>09:00 - 17:30</td>\n",
       "      <td>4 place Jussieu, Paris</td>\n",
       "    </tr>\n",
       "    <tr>\n",
       "      <th>14</th>\n",
       "      <td>Soirée CDO</td>\n",
       "      <td>2025-01-16</td>\n",
       "      <td>19:00 - 21:00</td>\n",
       "      <td>3 rue rossini, Paris</td>\n",
       "    </tr>\n",
       "    <tr>\n",
       "      <th>15</th>\n",
       "      <td>Soirée CDO</td>\n",
       "      <td>2025-03-13</td>\n",
       "      <td>19:00 - 21:00</td>\n",
       "      <td>3 rue rossini, Paris</td>\n",
       "    </tr>\n",
       "    <tr>\n",
       "      <th>16</th>\n",
       "      <td>Soirée CDO</td>\n",
       "      <td>2025-05-15</td>\n",
       "      <td>19:00 - 21:00</td>\n",
       "      <td>3 rue rossini, Paris</td>\n",
       "    </tr>\n",
       "  </tbody>\n",
       "</table>\n",
       "</div>"
      ],
      "text/plain": [
       "                                          event_title        date  \\\n",
       "0   WORKSHOP – Web Scraping: Make the internet you...  2024-08-19   \n",
       "1         WORKSHOP – Polars: Faster, Lighter, Smarter  2024-08-26   \n",
       "2                  WORKSHOP – Time-series forecasting  2024-09-13   \n",
       "3   REX – GenAI in prod : practical tech & product...  2024-09-18   \n",
       "4   Soirée CDO : L’industrie créative, un modèle i...  2024-09-18   \n",
       "5   FORMATION – INITIATION À L’IA GÉNÉRATIVE : DU ...  2024-09-26   \n",
       "6   Soirée data gouv : Comment déterminer l’origin...  2024-10-10   \n",
       "7   FORMATION – INITIATION À L’IA GÉNÉRATIVE : DU ...  2024-10-17   \n",
       "8   FORMATION – INITIATION À L’IA GÉNÉRATIVE : DU ...  2024-11-14   \n",
       "9   Speed dating entre étudiants en master IA, doc...  2024-11-14   \n",
       "10  Atelier Fraude – Forensic et applications de l...  2024-11-15   \n",
       "11                                         Soirée CDO  2024-11-21   \n",
       "12   Data Gouv – État de l’art des architectures data  2024-12-10   \n",
       "13  FORMATION – INITIATION À L’IA GÉNÉRATIVE : DU ...  2024-12-12   \n",
       "14                                         Soirée CDO  2025-01-16   \n",
       "15                                         Soirée CDO  2025-03-13   \n",
       "16                                         Soirée CDO  2025-05-15   \n",
       "\n",
       "             hour                     address  \n",
       "0   16:00 - 18:00  3 Rue Rossini, 75009 Paris  \n",
       "1   15:00 - 18:00  3 Rue Rossini, 75009 Paris  \n",
       "2   09:00 - 12:00  3 Rue Rossini, 75009 Paris  \n",
       "3   18:30 - 19:30  3 Rue Rossini, 75009 Paris  \n",
       "4   19:00 - 21:00        3 rue rossini, Paris  \n",
       "5   09:00 - 17:30      4 place Jussieu, Paris  \n",
       "6   18:30 - 20:00        3 rue rossini, Paris  \n",
       "7   09:00 - 17:30      4 place Jussieu, Paris  \n",
       "8   09:00 - 17:30      4 place Jussieu, Paris  \n",
       "9   18:00 - 21:00      4 Place Jussieu, Paris  \n",
       "10  08:30 - 12:00        3 rue rossini, Paris  \n",
       "11  19:00 - 21:00        3 rue rossini, Paris  \n",
       "12  18:30 - 20:00        3 rue rossini, Paris  \n",
       "13  09:00 - 17:30      4 place Jussieu, Paris  \n",
       "14  19:00 - 21:00        3 rue rossini, Paris  \n",
       "15  19:00 - 21:00        3 rue rossini, Paris  \n",
       "16  19:00 - 21:00        3 rue rossini, Paris  "
      ]
     },
     "execution_count": 4,
     "metadata": {},
     "output_type": "execute_result"
    }
   ],
   "source": [
    "# Collecter les données\n",
    "title = [elem.get_attribute(\"title\") for elem in event_title]\n",
    "date = [elem.get_attribute(\"datetime\") for elem in event_date]\n",
    "hour = [elem.text for elem in event_hour]\n",
    "address = [elem.text for elem in event_address]\n",
    "\n",
    "# Créer le dataframe\n",
    "data = {\n",
    "    'event_title': title,\n",
    "    'date': date,\n",
    "    'hour': hour,\n",
    "    'address': address\n",
    "}\n",
    "\n",
    "df = pd.DataFrame(data)\n",
    "\n",
    "# Afficher le dataframe\n",
    "df"
   ]
  },
  {
   "cell_type": "markdown",
   "id": "6a6b86f6-e673-4a2f-8ba4-fcb9e8f94efd",
   "metadata": {},
   "source": [
    "Vous êtes évidemment les bienvenus à tous ces événements ! "
   ]
  },
  {
   "cell_type": "markdown",
   "id": "e983255c-c671-4dee-81fb-b256f809fcbd",
   "metadata": {},
   "source": [
    "#### Convertir le csv"
   ]
  },
  {
   "cell_type": "code",
   "execution_count": 5,
   "id": "649c97ab-6448-45d1-adcf-a97b4497dab6",
   "metadata": {},
   "outputs": [],
   "source": [
    "#df.to_csv('agenda_event_datacraft.csv', index=False)"
   ]
  },
  {
   "cell_type": "markdown",
   "id": "cb72f11a-b1c6-4339-abc1-cccf4e81bc75",
   "metadata": {},
   "source": [
    "#### D'autres manières de sélectionner les infos"
   ]
  },
  {
   "cell_type": "code",
   "execution_count": 6,
   "id": "044bda60-2479-4077-83f5-3bafecc590ba",
   "metadata": {},
   "outputs": [],
   "source": [
    "event_title = driver.find_elements(By.XPATH, \"//*[@class='tribe-events-calendar-list__event-title-link tribe-common-anchor-thin']\")\n",
    "event_date = driver.find_elements(By.XPATH, \"//*[@class='dateshed']\")\n",
    "event_hour = driver.find_elements(By.XPATH, \"//*[@class='timeshed']\")\n",
    "event_adress = driver.find_elements(By.XPATH, \"//*[@class='tribe-events-calendar-list__event-venue-address']\")\n",
    "event_adress = driver.find_elements(By.CLASS_NAME, \"tribe-events-calendar-list__event-venue-address\")\n",
    "event_date = driver.find_elements(By.CLASS_NAME, \"dateshed\")\n",
    "event_hour = driver.find_elements(By.CLASS_NAME, \"timeshed\")"
   ]
  },
  {
   "cell_type": "code",
   "execution_count": 7,
   "id": "a48ce2e1-c60b-4366-8ee6-b79d5e2d36d0",
   "metadata": {},
   "outputs": [],
   "source": [
    "event_title = driver.find_elements(By.CLASS_NAME, \"tribe-events-calendar-list__event-title\")"
   ]
  },
  {
   "cell_type": "code",
   "execution_count": 8,
   "id": "89766066-f193-482d-8024-a1cc3e57f8a8",
   "metadata": {},
   "outputs": [],
   "source": [
    "title = [elem.text for elem in event_title]"
   ]
  },
  {
   "cell_type": "code",
   "execution_count": 9,
   "id": "73647c7b-3240-4fc7-806a-11391bb8aa64",
   "metadata": {},
   "outputs": [
    {
     "data": {
      "text/plain": [
       "['WORKSHOP – WEB SCRAPING: MAKE THE INTERNET YOUR PLAYGROUND',\n",
       " 'WORKSHOP – POLARS: FASTER, LIGHTER, SMARTER',\n",
       " 'WORKSHOP – TIME-SERIES FORECASTING',\n",
       " 'REX – GENAI IN PROD : PRACTICAL TECH & PRODUCT INSIGHT FOR DELIVERING VALUE WITH RAG',\n",
       " 'SOIRÉE CDO : L’INDUSTRIE CRÉATIVE, UN MODÈLE INSPIRANT POUR LES PROJETS D’IA',\n",
       " 'FORMATION – INITIATION À L’IA GÉNÉRATIVE : DU CONCEPT À LA RÉALITÉ !',\n",
       " 'SOIRÉE DATA GOUV : COMMENT DÉTERMINER L’ORIGINE DES PROBLÈMES DE QUALITÉ ET COMMENT LES TRAITER ?',\n",
       " 'FORMATION – INITIATION À L’IA GÉNÉRATIVE : DU CONCEPT À LA RÉALITÉ !',\n",
       " 'FORMATION – INITIATION À L’IA GÉNÉRATIVE : DU CONCEPT À LA RÉALITÉ !',\n",
       " 'SPEED DATING ENTRE ÉTUDIANTS EN MASTER IA, DOCTORANTS ET ENTREPRISES',\n",
       " 'ATELIER FRAUDE – FORENSIC ET APPLICATIONS DE L’INTELLIGENCE ARTIFICIELLE',\n",
       " 'SOIRÉE CDO',\n",
       " 'DATA GOUV – ÉTAT DE L’ART DES ARCHITECTURES DATA',\n",
       " 'FORMATION – INITIATION À L’IA GÉNÉRATIVE : DU CONCEPT À LA RÉALITÉ !',\n",
       " 'SOIRÉE CDO',\n",
       " 'SOIRÉE CDO',\n",
       " 'SOIRÉE CDO']"
      ]
     },
     "execution_count": 9,
     "metadata": {},
     "output_type": "execute_result"
    }
   ],
   "source": [
    "title"
   ]
  },
  {
   "cell_type": "code",
   "execution_count": null,
   "id": "be9d5012-2f80-403f-8a45-961602f80cc4",
   "metadata": {},
   "outputs": [],
   "source": []
  }
 ],
 "metadata": {
  "kernelspec": {
   "display_name": "Python 3 (ipykernel)",
   "language": "python",
   "name": "python3"
  },
  "language_info": {
   "codemirror_mode": {
    "name": "ipython",
    "version": 3
   },
   "file_extension": ".py",
   "mimetype": "text/x-python",
   "name": "python",
   "nbconvert_exporter": "python",
   "pygments_lexer": "ipython3",
   "version": "3.11.7"
  }
 },
 "nbformat": 4,
 "nbformat_minor": 5
}

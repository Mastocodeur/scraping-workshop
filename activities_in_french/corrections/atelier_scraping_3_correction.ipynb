{
 "cells": [
  {
   "cell_type": "markdown",
   "id": "c6f333bd-2609-4858-b410-1414c00cd3d6",
   "metadata": {},
   "source": [
    "# Activity 3 : Généralisation à plusieurs énigmes avec Selenium"
   ]
  },
  {
   "cell_type": "markdown",
   "id": "6e655cd2-053b-47a2-baf0-9eabfc01b7dc",
   "metadata": {},
   "source": [
    "<div style=\"text-align: center;\">\n",
    "    <img src=\"../images/scrappeur.png\" width=\"600\" height=\"300\">\n",
    "</div>"
   ]
  },
  {
   "cell_type": "markdown",
   "id": "568b644a-adb0-4652-95d5-5b9dba6fddb2",
   "metadata": {},
   "source": [
    "___"
   ]
  },
  {
   "cell_type": "markdown",
   "id": "d43d8eda-e97b-483e-af57-7e536dfae28e",
   "metadata": {},
   "source": [
    "Pour cette activité, nous allons créer un tableau plus complet et pour plusieurs énigmes.\n",
    "\n",
    "Cette fois-ci, on veut un tableau qui contiendra les colonnes suivantes : `title`, `num_enigme`, `url`, `image`, `enigme`, `solution` pour 5 énigmes.\n",
    "\n",
    "Nous allons fournir la première partie pour sélectionner 5 énigmes. On commence par aller sur une page qui contient les liens vers toutes les énigmes du jeu : "
   ]
  },
  {
   "cell_type": "code",
   "execution_count": 1,
   "id": "593ee9bb-b67a-4f28-8de6-c05e50e42cbc",
   "metadata": {},
   "outputs": [],
   "source": [
    "from selenium import webdriver\n",
    "from selenium.webdriver.chrome.options import Options\n",
    "from selenium.webdriver.common.by import By\n",
    "import time\n",
    "import random\n",
    "import pandas as pd"
   ]
  },
  {
   "cell_type": "code",
   "execution_count": 2,
   "id": "9f634526-7127-4d53-b0b5-525f835c9cd1",
   "metadata": {},
   "outputs": [],
   "source": [
    "url = \"https://professeur-layton.fandom.com/fr/wiki/Cat%C3%A9gorie:%C3%89nigmes\""
   ]
  },
  {
   "cell_type": "markdown",
   "id": "5f59277a-b7ec-42b5-8a6b-d33fc1bbb858",
   "metadata": {},
   "source": [
    "On se connecte en mode \"headless\" pour gagner quelques lignes de code :"
   ]
  },
  {
   "cell_type": "code",
   "execution_count": 3,
   "id": "5d1808ba-8ad9-4262-9372-9a60eea9ac93",
   "metadata": {},
   "outputs": [],
   "source": [
    "# Création d'une instance des options Chrome\n",
    "chrome_options = Options()\n",
    "\n",
    "# Définition des options Chrome \n",
    "chrome_options.add_argument('--disable-search-engine-choice-screen') \n",
    "chrome_options.add_argument('--disable-infobars')\n",
    "chrome_options.add_argument('--headless=new')\n",
    "# Création d'une nouvelle instance du navigateur Chrome avec les options spécifiées\n",
    "driver = webdriver.Chrome(options=chrome_options)\n",
    "driver.get(url)"
   ]
  },
  {
   "cell_type": "markdown",
   "id": "c9219a6a-fdcf-4ac0-80ae-93909616ad50",
   "metadata": {},
   "source": [
    "On récupère tous les liens de type href vers les énigmes grâce à un sélecteur type CSS_Selector : "
   ]
  },
  {
   "cell_type": "code",
   "execution_count": 15,
   "id": "bc80280b-fcc1-4fa2-a2bf-31ef1ad50584",
   "metadata": {},
   "outputs": [],
   "source": [
    "# Récupérer tous les éléments <a> avec la classe \"category-page__member-link\"\n",
    "elements = driver.find_elements(By.CSS_SELECTOR, \"a.category-page__member-link\")\n",
    "# Extraire les hrefs des éléments trouvés\n",
    "hrefs = [element.get_attribute(\"href\") for element in elements]"
   ]
  },
  {
   "cell_type": "code",
   "execution_count": 24,
   "id": "29c530bb-305a-44a0-a0ca-43cc0710ec94",
   "metadata": {},
   "outputs": [],
   "source": [
    "# Extraire les hrefs des éléments trouvés et filtrer pour exclure ceux contenant \"Categories\"\n",
    "hrefs = [element.get_attribute(\"href\") for element in elements if \"Cat%C3%A9gorie\" not in element.get_attribute(\"href\")]"
   ]
  },
  {
   "cell_type": "markdown",
   "id": "e7eb56e1-5db2-4100-a4ee-4f11c1863afb",
   "metadata": {},
   "source": [
    "On extrait aléatoirement une liste de 3 liens (pour éviter d'avoir un code trop long et de surcharger le wiki en requêtes) :"
   ]
  },
  {
   "cell_type": "code",
   "execution_count": 25,
   "id": "f63e31ad-36a8-433d-9065-50f31b3502fd",
   "metadata": {},
   "outputs": [],
   "source": [
    "# Sélectionner aléatoirement 3 hrefs\n",
    "hrefs = random.sample(hrefs, 3)"
   ]
  },
  {
   "cell_type": "code",
   "execution_count": 26,
   "id": "1ee9b0bd-497d-4cb3-85ce-d29572411490",
   "metadata": {},
   "outputs": [
    {
     "data": {
      "text/plain": [
       "['https://professeur-layton.fandom.com/fr/wiki/Croix_de_bois...',\n",
       " 'https://professeur-layton.fandom.com/fr/wiki/Contre-la-montre',\n",
       " 'https://professeur-layton.fandom.com/fr/wiki/%C3%80_la_belle_%C3%A9toile']"
      ]
     },
     "execution_count": 26,
     "metadata": {},
     "output_type": "execute_result"
    }
   ],
   "source": [
    "hrefs"
   ]
  },
  {
   "cell_type": "markdown",
   "id": "297d4b71-086d-4b81-b980-b3d80c84c726",
   "metadata": {},
   "source": [
    "On va ensuite créer une fonction qui pour chaque lien récupère les données qui nous intéressent : "
   ]
  },
  {
   "cell_type": "code",
   "execution_count": 27,
   "id": "abcb75c6-4b7d-402a-af1e-f0dcda386a32",
   "metadata": {},
   "outputs": [],
   "source": [
    "from selenium.common.exceptions import NoSuchElementException\n",
    "\n",
    "def collecte_enigme(href):\n",
    "    url = href\n",
    "    \n",
    "    # Configuration du navigateur (Chrome dans cet exemple)\n",
    "    options = Options()\n",
    "    options.add_argument(\"--headless\")  # Exécuter Chrome en mode headless\n",
    "    chrome_options.add_argument('--disable-search-engine-choice-screen') \n",
    "    chrome_options.add_argument('--disable-infobars')\n",
    "    driver = webdriver.Chrome(options=options)\n",
    "    \n",
    "    # Ouvrir la page web\n",
    "    driver.get(url)\n",
    "    time.sleep(3)\n",
    "    try:\n",
    "        cookie = driver.find_element(By.XPATH ,'/html/body/div[7]/div/div/div[2]/div[2]/div[1]')\n",
    "        cookie.click()\n",
    "    except :\n",
    "        pass\n",
    "    try : \n",
    "        # Récupération du titre :\n",
    "        title = driver.find_element(By.ID, 'firstHeading')\n",
    "        title = title.text\n",
    "    except : \n",
    "        title = None\n",
    "    try:\n",
    "        time.sleep(4)\n",
    "        num_enigme = driver.find_element(By.XPATH ,'//*[@id=\"mw-content-text\"]/div/div[1]/div[2]/table/tbody/tr[4]/td')\n",
    "        num_enigme = num_enigme.text\n",
    "       \n",
    "    except :\n",
    "        num_enigme = None\n",
    "    try:\n",
    "        \n",
    "        # Récupération de l'image\n",
    "        image_element = driver.find_element(By.CSS_SELECTOR, 'div.floatnone img')\n",
    "        image = image_element.get_attribute(\"src\")\n",
    "    \n",
    "    except:\n",
    "        image=None\n",
    "    \n",
    "    # Récupération de l'énoncé de l'énigme :\n",
    "    enigme_enonce = None\n",
    "    try : \n",
    "        enonce = driver.find_element(By.ID, \"Énoncé\")\n",
    "        enigme_enonce = enonce.find_elements(By.XPATH, \"//span[@class='mw-headline' and @id='Énoncé']/ancestor::h2/following-sibling::p[following-sibling::h2]\")\n",
    "        enigme_enonce = \"\".join([elem.text for elem in enigme_enonce])\n",
    "    except NoSuchElementException:\n",
    "        enigme_enonce = image\n",
    "        \n",
    "    resolution_title = None\n",
    "    \n",
    "    try:\n",
    "        resolution_title = driver.find_element(By.ID, \"Résolution\")\n",
    "        resolution = resolution_title.find_elements(By.XPATH, \"//span[@class='mw-headline' and @id='Résolution']/ancestor::h3/following-sibling::p[following-sibling::h3]\")\n",
    "        resolution = \"\\n\".join([elem.text for elem in resolution])\n",
    "    except Exception:\n",
    "        try:\n",
    "            solution = driver.find_element(By.ID, \"Solution\")\n",
    "            # Chercher le premier 'div' frère de 'Solution' qui contient le diaporama\n",
    "            slideshow_div = solution.find_element(By.XPATH, '//*[@id=\"slideshow-0\"]/div/div[1]')\n",
    "\n",
    "            # Localiser l'image spécifique à l'intérieur de ce diaporama\n",
    "            image_element = slideshow_div.find_element(By.XPATH, './/img[@class=\"thumbimage\"]')\n",
    "            image_url = image_element.get_attribute('src')\n",
    "            resolution = image_url\n",
    "            \n",
    "        except : \n",
    "            text_elements = solution.find_elements(By.XPATH, 'following::p')\n",
    "            resolution = \"\\n\".join([elem.text for elem in text_elements])\n",
    " \n",
    "    # Création du DataFrame\n",
    "    return pd.DataFrame([{'title': title, 'num_enigme':num_enigme, 'url': url, 'image': image, 'enigme': enigme_enonce, 'solution': resolution}])\n"
   ]
  },
  {
   "cell_type": "markdown",
   "id": "966e3830-f1c2-42bf-9b7e-506fea7f6297",
   "metadata": {},
   "source": [
    "On utilise ensuite cette fonction pour créer notre DataFrame :"
   ]
  },
  {
   "cell_type": "code",
   "execution_count": 28,
   "id": "2d27d775-f810-4b80-858b-254fce45c216",
   "metadata": {},
   "outputs": [
    {
     "name": "stdout",
     "output_type": "stream",
     "text": [
      "Scraping de la page https://professeur-layton.fandom.com/fr/wiki/Croix_de_bois... en cours...\n",
      "Scraping de la page https://professeur-layton.fandom.com/fr/wiki/Contre-la-montre en cours...\n",
      "Scraping de la page https://professeur-layton.fandom.com/fr/wiki/%C3%80_la_belle_%C3%A9toile en cours...\n",
      "Fin du Scraping\n"
     ]
    }
   ],
   "source": [
    "df_final = pd.DataFrame()\n",
    "for href in hrefs:\n",
    "    print(\"Scraping de la page\", href, \"en cours...\")\n",
    "    df_final = pd.concat([df_final, collecte_enigme(href)], ignore_index=True)\n",
    "print(\"Fin du Scraping\")"
   ]
  },
  {
   "cell_type": "code",
   "execution_count": 29,
   "id": "97e0937c-cf38-4dd1-b00a-e269a9f0b022",
   "metadata": {},
   "outputs": [
    {
     "data": {
      "text/html": [
       "<div>\n",
       "<style scoped>\n",
       "    .dataframe tbody tr th:only-of-type {\n",
       "        vertical-align: middle;\n",
       "    }\n",
       "\n",
       "    .dataframe tbody tr th {\n",
       "        vertical-align: top;\n",
       "    }\n",
       "\n",
       "    .dataframe thead th {\n",
       "        text-align: right;\n",
       "    }\n",
       "</style>\n",
       "<table border=\"1\" class=\"dataframe\">\n",
       "  <thead>\n",
       "    <tr style=\"text-align: right;\">\n",
       "      <th></th>\n",
       "      <th>title</th>\n",
       "      <th>num_enigme</th>\n",
       "      <th>url</th>\n",
       "      <th>image</th>\n",
       "      <th>enigme</th>\n",
       "      <th>solution</th>\n",
       "    </tr>\n",
       "  </thead>\n",
       "  <tbody>\n",
       "    <tr>\n",
       "      <th>0</th>\n",
       "      <td>Croix de bois...</td>\n",
       "      <td>061</td>\n",
       "      <td>https://professeur-layton.fandom.com/fr/wiki/C...</td>\n",
       "      <td>https://static.wikia.nocookie.net/layton/image...</td>\n",
       "      <td>On a relié les épingles de ce pêle-mêle de man...</td>\n",
       "      <td>Beau travail !\\nCette énigme est très facile l...</td>\n",
       "    </tr>\n",
       "    <tr>\n",
       "      <th>1</th>\n",
       "      <td>Contre-la-montre</td>\n",
       "      <td>005</td>\n",
       "      <td>https://professeur-layton.fandom.com/fr/wiki/C...</td>\n",
       "      <td>https://static.wikia.nocookie.net/layton/image...</td>\n",
       "      <td>Une horloge à aiguilles standard est composée ...</td>\n",
       "      <td>Bonne réponse !\\nL'aiguille des minutes dépass...</td>\n",
       "    </tr>\n",
       "    <tr>\n",
       "      <th>2</th>\n",
       "      <td>À la belle étoile</td>\n",
       "      <td>046</td>\n",
       "      <td>https://professeur-layton.fandom.com/fr/wiki/%...</td>\n",
       "      <td>https://static.wikia.nocookie.net/layton/image...</td>\n",
       "      <td>Regardez ce magnifique ciel étoilé.Combien de ...</td>\n",
       "      <td>Bonne réponse !\\nIl y a douze triangles en tou...</td>\n",
       "    </tr>\n",
       "  </tbody>\n",
       "</table>\n",
       "</div>"
      ],
      "text/plain": [
       "               title num_enigme  \\\n",
       "0   Croix de bois...        061   \n",
       "1   Contre-la-montre        005   \n",
       "2  À la belle étoile        046   \n",
       "\n",
       "                                                 url  \\\n",
       "0  https://professeur-layton.fandom.com/fr/wiki/C...   \n",
       "1  https://professeur-layton.fandom.com/fr/wiki/C...   \n",
       "2  https://professeur-layton.fandom.com/fr/wiki/%...   \n",
       "\n",
       "                                               image  \\\n",
       "0  https://static.wikia.nocookie.net/layton/image...   \n",
       "1  https://static.wikia.nocookie.net/layton/image...   \n",
       "2  https://static.wikia.nocookie.net/layton/image...   \n",
       "\n",
       "                                              enigme  \\\n",
       "0  On a relié les épingles de ce pêle-mêle de man...   \n",
       "1  Une horloge à aiguilles standard est composée ...   \n",
       "2  Regardez ce magnifique ciel étoilé.Combien de ...   \n",
       "\n",
       "                                            solution  \n",
       "0  Beau travail !\\nCette énigme est très facile l...  \n",
       "1  Bonne réponse !\\nL'aiguille des minutes dépass...  \n",
       "2  Bonne réponse !\\nIl y a douze triangles en tou...  "
      ]
     },
     "execution_count": 29,
     "metadata": {},
     "output_type": "execute_result"
    }
   ],
   "source": [
    "pd.set_option('display.max_row', 5)\n",
    "pd.set_option('display.max_column', 6)\n",
    "df_final"
   ]
  },
  {
   "cell_type": "code",
   "execution_count": 30,
   "id": "bd607177-74c7-41b9-8442-ba5eeac7b989",
   "metadata": {},
   "outputs": [],
   "source": [
    "#Permet de mettre fin au driver\n",
    "driver.quit()"
   ]
  },
  {
   "cell_type": "markdown",
   "id": "92163375-fd98-47d7-9f1f-02ef3ce61d00",
   "metadata": {},
   "source": [
    "## Activité 3 BONUS : Généralisation à plusieurs énigmes avec BeautifulSoup"
   ]
  },
  {
   "cell_type": "code",
   "execution_count": 31,
   "id": "0c0f8d6d-6342-4a7e-9386-de1b6057a1f6",
   "metadata": {},
   "outputs": [],
   "source": [
    "from bs4 import BeautifulSoup, Tag\n",
    "from typing import List\n",
    "import requests\n",
    "import random\n",
    "import pandas as pd"
   ]
  },
  {
   "cell_type": "markdown",
   "id": "aa3a73f1-7f1d-4772-8bb0-a77624b5b1e6",
   "metadata": {},
   "source": [
    "#### Lancement d'une requête permettant de récupérer tout le code source de l'url à scraper"
   ]
  },
  {
   "cell_type": "code",
   "execution_count": 36,
   "id": "6b107ff9-1051-4bff-bfd9-af8824328b6b",
   "metadata": {},
   "outputs": [],
   "source": [
    "url = \"https://professeur-layton.fandom.com/fr/wiki/Cat%C3%A9gorie:%C3%89nigmes\"\n",
    "data  = requests.get(url).text\n",
    "soup = BeautifulSoup(data,\"html5lib\")"
   ]
  },
  {
   "cell_type": "markdown",
   "id": "80ecca56-e498-4c9b-8749-eb9f39025349",
   "metadata": {},
   "source": [
    "#### Afficher le code source de la page"
   ]
  },
  {
   "cell_type": "code",
   "execution_count": 38,
   "id": "b45dc254-8e02-4e3b-aa78-297b2c1a621d",
   "metadata": {},
   "outputs": [],
   "source": [
    "#print(soup.prettify())"
   ]
  },
  {
   "cell_type": "markdown",
   "id": "fb1ea655-d96a-4e0d-882a-7d789e1d39ec",
   "metadata": {},
   "source": [
    "#### Récuperer tous les liens des énigmes et n'en prendre que 5 aléatoirement"
   ]
  },
  {
   "cell_type": "code",
   "execution_count": 39,
   "id": "b0c547ee-5a10-4401-b070-b8d08e66f6aa",
   "metadata": {},
   "outputs": [],
   "source": [
    "# Trouver tous les éléments <a> avec la classe \"category-page__member-link\"\n",
    "links = soup.find_all('a', class_='category-page__member-link')\n",
    "\n",
    "# Extraire les attributs href\n",
    "hrefs = [link.get('href') for link in links]\n",
    "\n",
    "# Afficher les hrefs\n",
    "#print(hrefs)\n",
    "#print(len(hrefs))\n",
    "\n",
    "# Sélectionner aléatoirement 5 hrefs\n",
    "hrefs = random.sample(hrefs, 5)\n",
    "\n",
    "# Afficher les hrefs sélectionnés aléatoirement\n",
    "#print(random_hrefs)\n",
    "#print(len(random_hrefs))"
   ]
  },
  {
   "cell_type": "code",
   "execution_count": 40,
   "id": "b63c7db5-30b8-48c3-b298-fc09bb6e313a",
   "metadata": {},
   "outputs": [
    {
     "data": {
      "text/plain": [
       "['/fr/wiki/Mise_en_plis',\n",
       " '/fr/wiki/Les_aiguilles_du_temps',\n",
       " '/fr/wiki/Embouteillages',\n",
       " '/fr/wiki/In%C3%A9quations_%3F',\n",
       " '/fr/wiki/Groom_service']"
      ]
     },
     "execution_count": 40,
     "metadata": {},
     "output_type": "execute_result"
    }
   ],
   "source": [
    "hrefs"
   ]
  },
  {
   "cell_type": "markdown",
   "id": "a64fd639-3e47-48a7-895c-8c4357dd072d",
   "metadata": {},
   "source": [
    "#### Créons une fonction permettant de répéter les étapes d'extraction de données"
   ]
  },
  {
   "cell_type": "code",
   "execution_count": 41,
   "id": "df501c30-439c-4881-86b0-4d2be844c172",
   "metadata": {},
   "outputs": [],
   "source": [
    "def collecte_enigme(racine, href):\n",
    "    url = racine + href\n",
    "    soup = BeautifulSoup(requests.get(url).text, \"html.parser\")\n",
    "\n",
    "    # Extraction des métadonnées\n",
    "    title = soup.find('meta', property=\"og:title\").get(\"content\")\n",
    "    url_enigme = soup.find('meta', property=\"og:url\").get(\"content\")\n",
    "    \n",
    "    # Récupération de l'image (src le plus long)\n",
    "    src_urls = [tag['src'] for tag in soup.find_all(src=True)]\n",
    "    image = max(src_urls, key=len, default=None)\n",
    "    \n",
    "    # Récupération de l'énigme\n",
    "    enigme = None\n",
    "    try:\n",
    "        start_element = soup.find('span', id='Énoncé').find_parent('h2')\n",
    "        enigme = \"\\n\".join(\n",
    "            sibling.get_text() for sibling in start_element.find_next_siblings() \n",
    "            if sibling.name in ['p', 'ul'] and sibling.name != 'h2'\n",
    "        )\n",
    "    except:\n",
    "        enigme = image\n",
    "    \n",
    "    # Récupération de la réponse\n",
    "    try:\n",
    "        reponse = soup.find('span', class_='mw-headline', id='Solution').find_next('p').get_text(strip=True)\n",
    "    except:\n",
    "        reponse = soup.find('a', class_='image')\n",
    "        reponse = reponse.get('href') if reponse else \"La réponse n'a pas été loadée correctement\"\n",
    "    \n",
    "    # Récupération des indices\n",
    "    indices = [\n",
    "        content.get_text(strip=True)\n",
    "        for tab, content in zip(soup.select('ul.wds-tabs li.wds-tabs__tab a'), soup.select('div.wds-tab__content'))\n",
    "        if content.select_one('div[style*=\"overflow-y:auto\"]')\n",
    "    ]\n",
    "\n",
    "    # Création du DataFrame\n",
    "    return pd.DataFrame([{'title': title, 'url': url_enigme, 'image': image, 'enigme': enigme, 'indices': indices, 'solution': reponse}])\n"
   ]
  },
  {
   "cell_type": "markdown",
   "id": "ab2a839e-1db8-4d74-9a8b-802bf0892707",
   "metadata": {},
   "source": [
    "#### Utilisation de la fonction et stockage dans un DataFrame"
   ]
  },
  {
   "cell_type": "code",
   "execution_count": 42,
   "id": "57b83f25-c3b8-49c1-bb69-e5d43993dc1e",
   "metadata": {},
   "outputs": [],
   "source": [
    "racine = \"https://professeur-layton.fandom.com\"\n",
    "df_final = pd.DataFrame()\n",
    "for href in hrefs:\n",
    "    df_final = pd.concat([df_final, collecte_enigme(racine,href)], ignore_index=True)"
   ]
  },
  {
   "cell_type": "markdown",
   "id": "145124c0-949a-435a-b620-98c23523a31a",
   "metadata": {},
   "source": [
    "#### Visualisation"
   ]
  },
  {
   "cell_type": "code",
   "execution_count": 43,
   "id": "059c5314-9042-4de1-8e89-0396335db08c",
   "metadata": {},
   "outputs": [
    {
     "data": {
      "text/html": [
       "<div>\n",
       "<style scoped>\n",
       "    .dataframe tbody tr th:only-of-type {\n",
       "        vertical-align: middle;\n",
       "    }\n",
       "\n",
       "    .dataframe tbody tr th {\n",
       "        vertical-align: top;\n",
       "    }\n",
       "\n",
       "    .dataframe thead th {\n",
       "        text-align: right;\n",
       "    }\n",
       "</style>\n",
       "<table border=\"1\" class=\"dataframe\">\n",
       "  <thead>\n",
       "    <tr style=\"text-align: right;\">\n",
       "      <th></th>\n",
       "      <th>title</th>\n",
       "      <th>url</th>\n",
       "      <th>image</th>\n",
       "      <th>enigme</th>\n",
       "      <th>indices</th>\n",
       "      <th>solution</th>\n",
       "    </tr>\n",
       "  </thead>\n",
       "  <tbody>\n",
       "    <tr>\n",
       "      <th>0</th>\n",
       "      <td>Mise en plis</td>\n",
       "      <td>https://professeur-layton.fandom.com/fr/wiki/M...</td>\n",
       "      <td>https://static.wikia.nocookie.net/layton/image...</td>\n",
       "      <td>Une ville ne compte que deux coiffeurs. Il n'y...</td>\n",
       "      <td>[Vous ne vous coupez pas les cheveux vous-même...</td>\n",
       "      <td>La réponse est le coiffeur A.</td>\n",
       "    </tr>\n",
       "    <tr>\n",
       "      <th>1</th>\n",
       "      <td>Les aiguilles du temps</td>\n",
       "      <td>https://professeur-layton.fandom.com/fr/wiki/L...</td>\n",
       "      <td>https://static.wikia.nocookie.net/layton/image...</td>\n",
       "      <td>L'horloge indique actuellement 15 h 30. Cela s...</td>\n",
       "      <td>[Il n'est pas nécessaire de toucher les aiguil...</td>\n",
       "      <td>La réponse est 00, car il faut juste attendre ...</td>\n",
       "    </tr>\n",
       "    <tr>\n",
       "      <th>2</th>\n",
       "      <td>Embouteillages</td>\n",
       "      <td>https://professeur-layton.fandom.com/fr/wiki/E...</td>\n",
       "      <td>https://static.wikia.nocookie.net/layton/image...</td>\n",
       "      <td>La Laytonmobile, le bijou du professeur, est c...</td>\n",
       "      <td>[Cela ne sert à rien d'essayer de libérer la v...</td>\n",
       "      <td>Beau travail !</td>\n",
       "    </tr>\n",
       "    <tr>\n",
       "      <th>3</th>\n",
       "      <td>Inéquations ?</td>\n",
       "      <td>https://professeur-layton.fandom.com/fr/wiki/I...</td>\n",
       "      <td>https://static.wikia.nocookie.net/layton/image...</td>\n",
       "      <td>Eh bien, on dirait que quelqu'un a encore écri...</td>\n",
       "      <td>[Au premier coup d'œil, il semble que l'auteur...</td>\n",
       "      <td>La réponse est 1.</td>\n",
       "    </tr>\n",
       "    <tr>\n",
       "      <th>4</th>\n",
       "      <td>Groom service</td>\n",
       "      <td>https://professeur-layton.fandom.com/fr/wiki/G...</td>\n",
       "      <td>https://static.wikia.nocookie.net/layton/image...</td>\n",
       "      <td>Deux portiers doivent prendre six valises dont...</td>\n",
       "      <td>[Puisqu'il y a six valises, il est permis de s...</td>\n",
       "      <td>Beau Travail!</td>\n",
       "    </tr>\n",
       "  </tbody>\n",
       "</table>\n",
       "</div>"
      ],
      "text/plain": [
       "                    title                                                url  \\\n",
       "0            Mise en plis  https://professeur-layton.fandom.com/fr/wiki/M...   \n",
       "1  Les aiguilles du temps  https://professeur-layton.fandom.com/fr/wiki/L...   \n",
       "2          Embouteillages  https://professeur-layton.fandom.com/fr/wiki/E...   \n",
       "3           Inéquations ?  https://professeur-layton.fandom.com/fr/wiki/I...   \n",
       "4           Groom service  https://professeur-layton.fandom.com/fr/wiki/G...   \n",
       "\n",
       "                                               image  \\\n",
       "0  https://static.wikia.nocookie.net/layton/image...   \n",
       "1  https://static.wikia.nocookie.net/layton/image...   \n",
       "2  https://static.wikia.nocookie.net/layton/image...   \n",
       "3  https://static.wikia.nocookie.net/layton/image...   \n",
       "4  https://static.wikia.nocookie.net/layton/image...   \n",
       "\n",
       "                                              enigme  \\\n",
       "0  Une ville ne compte que deux coiffeurs. Il n'y...   \n",
       "1  L'horloge indique actuellement 15 h 30. Cela s...   \n",
       "2  La Laytonmobile, le bijou du professeur, est c...   \n",
       "3  Eh bien, on dirait que quelqu'un a encore écri...   \n",
       "4  Deux portiers doivent prendre six valises dont...   \n",
       "\n",
       "                                             indices  \\\n",
       "0  [Vous ne vous coupez pas les cheveux vous-même...   \n",
       "1  [Il n'est pas nécessaire de toucher les aiguil...   \n",
       "2  [Cela ne sert à rien d'essayer de libérer la v...   \n",
       "3  [Au premier coup d'œil, il semble que l'auteur...   \n",
       "4  [Puisqu'il y a six valises, il est permis de s...   \n",
       "\n",
       "                                            solution  \n",
       "0                      La réponse est le coiffeur A.  \n",
       "1  La réponse est 00, car il faut juste attendre ...  \n",
       "2                                     Beau travail !  \n",
       "3                                  La réponse est 1.  \n",
       "4                                      Beau Travail!  "
      ]
     },
     "execution_count": 43,
     "metadata": {},
     "output_type": "execute_result"
    }
   ],
   "source": [
    "pd.set_option('display.max_row', 7)\n",
    "pd.set_option('display.max_column', 6)\n",
    "df_final"
   ]
  },
  {
   "cell_type": "markdown",
   "id": "be2e582c-54d1-4617-82ae-d05b7ec943bf",
   "metadata": {},
   "source": [
    "# Conclusion"
   ]
  },
  {
   "cell_type": "markdown",
   "id": "137e12c8-22b2-407b-94df-ae5e7601e28d",
   "metadata": {},
   "source": [
    "Nous avons finalement réussi à se constituer un DataFrame à partir d'un site web ! \n",
    "Ce qu'il faut retenir, c'est que BeautifulSoup est très utile pour les sites dit \"ouverts\" et pour de la répetition massive de collecte d'infos."
   ]
  }
 ],
 "metadata": {
  "kernelspec": {
   "display_name": "Python 3 (ipykernel)",
   "language": "python",
   "name": "python3"
  },
  "language_info": {
   "codemirror_mode": {
    "name": "ipython",
    "version": 3
   },
   "file_extension": ".py",
   "mimetype": "text/x-python",
   "name": "python",
   "nbconvert_exporter": "python",
   "pygments_lexer": "ipython3",
   "version": "3.11.7"
  }
 },
 "nbformat": 4,
 "nbformat_minor": 5
}

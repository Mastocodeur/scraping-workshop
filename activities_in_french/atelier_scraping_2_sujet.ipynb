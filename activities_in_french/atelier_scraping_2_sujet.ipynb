{
 "cells": [
  {
   "cell_type": "markdown",
   "id": "a90fbc70-106b-4b56-bace-f14aeaab71f3",
   "metadata": {},
   "source": [
    "## Activité 2 : Scraper l'agenda de Datacraft avec Selenium corrigé"
   ]
  },
  {
   "cell_type": "markdown",
   "id": "6fd70d51-bc98-436d-9b72-e1218aca3c5e",
   "metadata": {},
   "source": [
    "<div style=\"text-align: center;\">\n",
    "    <img src=\"./images/agenda_datacraft.png\" width=\"600\" height=\"300\">\n",
    "</div>"
   ]
  },
  {
   "cell_type": "markdown",
   "id": "73460c04-4e10-484d-8e11-f82e905830e1",
   "metadata": {},
   "source": [
    "Pour cette deuxième activité, nous allons scraper l'agenda datacraft : https://datacraft.paris/agenda/\n",
    "\n",
    "Ce que nous voulons, c'est constituer un DataFrame avec les colonnes suivantes : `event_title`, `date`, `hour`, `adress`."
   ]
  },
  {
   "cell_type": "markdown",
   "id": "975f7ce4-4dd5-4251-b466-78d96d591b0d",
   "metadata": {},
   "source": [
    "#### Import des modules"
   ]
  },
  {
   "cell_type": "code",
   "execution_count": 1,
   "id": "4bfe0aee-69a9-4458-9b95-531fff8599ea",
   "metadata": {},
   "outputs": [],
   "source": [
    "# Import des bibliothèques\n",
    "from selenium import webdriver\n",
    "from selenium.webdriver.chrome.options import Options\n",
    "from selenium.webdriver.common.by import By\n",
    "import time\n",
    "import pandas as pd"
   ]
  },
  {
   "cell_type": "markdown",
   "id": "00cd9adc-bb61-4fda-b48a-62bd1468ed6c",
   "metadata": {},
   "source": [
    "On vous laisse essayer ! "
   ]
  },
  {
   "cell_type": "code",
   "execution_count": null,
   "id": "2d218510-6379-44b8-b23d-99177fdb080f",
   "metadata": {},
   "outputs": [],
   "source": []
  }
 ],
 "metadata": {
  "kernelspec": {
   "display_name": "Python 3 (ipykernel)",
   "language": "python",
   "name": "python3"
  },
  "language_info": {
   "codemirror_mode": {
    "name": "ipython",
    "version": 3
   },
   "file_extension": ".py",
   "mimetype": "text/x-python",
   "name": "python",
   "nbconvert_exporter": "python",
   "pygments_lexer": "ipython3",
   "version": "3.11.7"
  }
 },
 "nbformat": 4,
 "nbformat_minor": 5
}

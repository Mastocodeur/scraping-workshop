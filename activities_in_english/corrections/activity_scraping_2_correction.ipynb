{
 "cells": [
  {
   "cell_type": "markdown",
   "id": "a90fbc70-106b-4b56-bace-f14aeaab71f3",
   "metadata": {},
   "source": [
    "## Activity 2: Scrapping Datacraft's agenda with Selenium corrected"
   ]
  },
  {
   "cell_type": "markdown",
   "id": "b56fb53d-5a85-4085-b0e9-67281e42c22e",
   "metadata": {},
   "source": [
    "<div style=\"text-align: center;\">\n",
    "    <img src=\"../images/agenda_datacraft.png\" width=\"600\" height=\"300\">\n",
    "</div>"
   ]
  },
  {
   "cell_type": "markdown",
   "id": "73460c04-4e10-484d-8e11-f82e905830e1",
   "metadata": {},
   "source": [
    "For this second activity, we're going to scrape the datacraft calendar: https://datacraft.paris/agenda/\n",
    "\n",
    "We want to create a DataFrame with the following columns: `event_title`, `date`, `hour`, `address`."
   ]
  },
  {
   "cell_type": "markdown",
   "id": "975f7ce4-4dd5-4251-b466-78d96d591b0d",
   "metadata": {},
   "source": [
    "#### Importing modules"
   ]
  },
  {
   "cell_type": "code",
   "execution_count": 1,
   "id": "4bfe0aee-69a9-4458-9b95-531fff8599ea",
   "metadata": {},
   "outputs": [],
   "source": [
    "# Import des bibliothèques\n",
    "from selenium import webdriver\n",
    "from selenium.webdriver.chrome.service import Service\n",
    "from selenium.webdriver.chrome.options import Options\n",
    "from webdriver_manager.chrome import ChromeDriverManager\n",
    "from selenium.webdriver.common.by import By\n",
    "import pandas as pd"
   ]
  },
  {
   "cell_type": "markdown",
   "id": "06f0f8b6-6886-4fc9-97e7-25f348be68f3",
   "metadata": {},
   "source": [
    "#### Establishing a connection to the site"
   ]
  },
  {
   "cell_type": "code",
   "execution_count": 2,
   "id": "003f647f-3fff-44bd-81a4-3b662d0b3c2b",
   "metadata": {},
   "outputs": [],
   "source": [
    "# create an instance of the Service object\n",
    "service = Service(executable_path=ChromeDriverManager().install())\n",
    "# start Chrome using the service keyword\n",
    "driver = webdriver.Chrome(service=service)\n",
    "# Enter the URL you wish to access\n",
    "url = \"https://datacraft.paris/agenda/\"\n",
    "driver.get(url)"
   ]
  },
  {
   "cell_type": "markdown",
   "id": "ec1d59eb-f8d0-488a-ba71-a60743c15840",
   "metadata": {},
   "source": [
    "#### Element identification and selection"
   ]
  },
  {
   "cell_type": "code",
   "execution_count": 3,
   "id": "d125e4dc-78f9-4ff2-9d7d-e888573daaad",
   "metadata": {},
   "outputs": [],
   "source": [
    "event_title = driver.find_elements(By.CSS_SELECTOR, 'h3.tribe-events-calendar-list__event-title a')\n",
    "event_date = driver.find_elements(By.CSS_SELECTOR, 'time.tribe-events-calendar-list__event-date-tag-datetime')\n",
    "event_hour = driver.find_elements(By.CSS_SELECTOR, '.tribe-events-calendar-list__event-datetime-wrapper .timeshed')\n",
    "event_address =  driver.find_elements(By.CSS_SELECTOR,'.tribe-events-calendar-list__event-venue-address')"
   ]
  },
  {
   "cell_type": "markdown",
   "id": "a6fa98cf-b628-4d79-a70b-cbd394e7017c",
   "metadata": {},
   "source": [
    "#### DataFrame creation"
   ]
  },
  {
   "cell_type": "code",
   "execution_count": 4,
   "id": "a92a6998-2a34-44ee-a48e-62fb69a370ae",
   "metadata": {},
   "outputs": [
    {
     "data": {
      "text/html": [
       "<div>\n",
       "<style scoped>\n",
       "    .dataframe tbody tr th:only-of-type {\n",
       "        vertical-align: middle;\n",
       "    }\n",
       "\n",
       "    .dataframe tbody tr th {\n",
       "        vertical-align: top;\n",
       "    }\n",
       "\n",
       "    .dataframe thead th {\n",
       "        text-align: right;\n",
       "    }\n",
       "</style>\n",
       "<table border=\"1\" class=\"dataframe\">\n",
       "  <thead>\n",
       "    <tr style=\"text-align: right;\">\n",
       "      <th></th>\n",
       "      <th>Event_title</th>\n",
       "      <th>Date</th>\n",
       "      <th>Time</th>\n",
       "      <th>Address</th>\n",
       "    </tr>\n",
       "  </thead>\n",
       "  <tbody>\n",
       "    <tr>\n",
       "      <th>0</th>\n",
       "      <td>Atelier – Causalité : L’inférence causale</td>\n",
       "      <td>2024-06-26</td>\n",
       "      <td>14:00 - 17:00</td>\n",
       "      <td>3 Rue Rossini, 75009 Paris</td>\n",
       "    </tr>\n",
       "    <tr>\n",
       "      <th>1</th>\n",
       "      <td>ATELIER – DONNEZ VIE À VOTRE IMAGINATION GRÂCE...</td>\n",
       "      <td>2024-06-27</td>\n",
       "      <td>16:00 - 18:00</td>\n",
       "      <td>3 Rue Rossini, 75009 Paris</td>\n",
       "    </tr>\n",
       "    <tr>\n",
       "      <th>2</th>\n",
       "      <td>IA Frugale – Spécification AFNOR : découverte,...</td>\n",
       "      <td>2024-06-27</td>\n",
       "      <td>18:00 - 19:30</td>\n",
       "      <td>3 Rue Rossini, 75009 Paris</td>\n",
       "    </tr>\n",
       "    <tr>\n",
       "      <th>3</th>\n",
       "      <td>Workshop – Exploring datasets for RAG and fine...</td>\n",
       "      <td>2024-06-28</td>\n",
       "      <td>13:00 - 17:00</td>\n",
       "      <td>3 Rue Rossini, 75009 Paris</td>\n",
       "    </tr>\n",
       "    <tr>\n",
       "      <th>4</th>\n",
       "      <td>REX – Mise en place d’une app d’optimisation d...</td>\n",
       "      <td>2024-07-01</td>\n",
       "      <td>18:00 - 19:00</td>\n",
       "      <td>3 Rue Rossini, 75009 Paris</td>\n",
       "    </tr>\n",
       "    <tr>\n",
       "      <th>5</th>\n",
       "      <td>Table ronde GenAI : derrière la tendance, quel...</td>\n",
       "      <td>2024-07-02</td>\n",
       "      <td>08:30 - 10:30</td>\n",
       "      <td>36 Rue La Fayette, Paris</td>\n",
       "    </tr>\n",
       "    <tr>\n",
       "      <th>6</th>\n",
       "      <td>FORMATION – INITIATION À L’IA GÉNÉRATIVE : DU ...</td>\n",
       "      <td>2024-07-02</td>\n",
       "      <td>09:00 - 17:30</td>\n",
       "      <td>4 place Jussieu, Paris</td>\n",
       "    </tr>\n",
       "    <tr>\n",
       "      <th>7</th>\n",
       "      <td>Club CDO  –  Comment déployer sa stratégie dat...</td>\n",
       "      <td>2024-07-04</td>\n",
       "      <td>19:00 - 21:00</td>\n",
       "      <td>3 Rue Rossini, 75009 Paris</td>\n",
       "    </tr>\n",
       "    <tr>\n",
       "      <th>8</th>\n",
       "      <td>REX-Détection et qualification d’objets pour u...</td>\n",
       "      <td>2024-07-09</td>\n",
       "      <td>18:00 - 19:00</td>\n",
       "      <td>3 Rue Rossini, 75009 Paris</td>\n",
       "    </tr>\n",
       "    <tr>\n",
       "      <th>9</th>\n",
       "      <td>Atelier –  Déployez et partagez votre projet d...</td>\n",
       "      <td>2024-07-11</td>\n",
       "      <td>15:00 - 18:00</td>\n",
       "      <td>3 Rue Rossini, 75009 Paris</td>\n",
       "    </tr>\n",
       "    <tr>\n",
       "      <th>10</th>\n",
       "      <td>FORMATION – INITIATION À L’IA GÉNÉRATIVE : DU ...</td>\n",
       "      <td>2024-08-29</td>\n",
       "      <td>09:00 - 17:30</td>\n",
       "      <td>4 place Jussieu, Paris</td>\n",
       "    </tr>\n",
       "    <tr>\n",
       "      <th>11</th>\n",
       "      <td>FORMATION – INITIATION À L’IA GÉNÉRATIVE : DU ...</td>\n",
       "      <td>2024-09-26</td>\n",
       "      <td>09:00 - 17:30</td>\n",
       "      <td>4 place Jussieu, Paris</td>\n",
       "    </tr>\n",
       "    <tr>\n",
       "      <th>12</th>\n",
       "      <td>FORMATION – INITIATION À L’IA GÉNÉRATIVE : DU ...</td>\n",
       "      <td>2024-10-17</td>\n",
       "      <td>09:00 - 17:30</td>\n",
       "      <td>4 place Jussieu, Paris</td>\n",
       "    </tr>\n",
       "    <tr>\n",
       "      <th>13</th>\n",
       "      <td>FORMATION – INITIATION À L’IA GÉNÉRATIVE : DU ...</td>\n",
       "      <td>2024-11-14</td>\n",
       "      <td>09:00 - 17:30</td>\n",
       "      <td>4 place Jussieu, Paris</td>\n",
       "    </tr>\n",
       "    <tr>\n",
       "      <th>14</th>\n",
       "      <td>FORMATION – INITIATION À L’IA GÉNÉRATIVE : DU ...</td>\n",
       "      <td>2024-12-12</td>\n",
       "      <td>09:00 - 17:30</td>\n",
       "      <td>4 place Jussieu, Paris</td>\n",
       "    </tr>\n",
       "  </tbody>\n",
       "</table>\n",
       "</div>"
      ],
      "text/plain": [
       "                                          Event_title        Date  \\\n",
       "0           Atelier – Causalité : L’inférence causale  2024-06-26   \n",
       "1   ATELIER – DONNEZ VIE À VOTRE IMAGINATION GRÂCE...  2024-06-27   \n",
       "2   IA Frugale – Spécification AFNOR : découverte,...  2024-06-27   \n",
       "3   Workshop – Exploring datasets for RAG and fine...  2024-06-28   \n",
       "4   REX – Mise en place d’une app d’optimisation d...  2024-07-01   \n",
       "5   Table ronde GenAI : derrière la tendance, quel...  2024-07-02   \n",
       "6   FORMATION – INITIATION À L’IA GÉNÉRATIVE : DU ...  2024-07-02   \n",
       "7   Club CDO  –  Comment déployer sa stratégie dat...  2024-07-04   \n",
       "8   REX-Détection et qualification d’objets pour u...  2024-07-09   \n",
       "9   Atelier –  Déployez et partagez votre projet d...  2024-07-11   \n",
       "10  FORMATION – INITIATION À L’IA GÉNÉRATIVE : DU ...  2024-08-29   \n",
       "11  FORMATION – INITIATION À L’IA GÉNÉRATIVE : DU ...  2024-09-26   \n",
       "12  FORMATION – INITIATION À L’IA GÉNÉRATIVE : DU ...  2024-10-17   \n",
       "13  FORMATION – INITIATION À L’IA GÉNÉRATIVE : DU ...  2024-11-14   \n",
       "14  FORMATION – INITIATION À L’IA GÉNÉRATIVE : DU ...  2024-12-12   \n",
       "\n",
       "             Time                     Address  \n",
       "0   14:00 - 17:00  3 Rue Rossini, 75009 Paris  \n",
       "1   16:00 - 18:00  3 Rue Rossini, 75009 Paris  \n",
       "2   18:00 - 19:30  3 Rue Rossini, 75009 Paris  \n",
       "3   13:00 - 17:00  3 Rue Rossini, 75009 Paris  \n",
       "4   18:00 - 19:00  3 Rue Rossini, 75009 Paris  \n",
       "5   08:30 - 10:30    36 Rue La Fayette, Paris  \n",
       "6   09:00 - 17:30      4 place Jussieu, Paris  \n",
       "7   19:00 - 21:00  3 Rue Rossini, 75009 Paris  \n",
       "8   18:00 - 19:00  3 Rue Rossini, 75009 Paris  \n",
       "9   15:00 - 18:00  3 Rue Rossini, 75009 Paris  \n",
       "10  09:00 - 17:30      4 place Jussieu, Paris  \n",
       "11  09:00 - 17:30      4 place Jussieu, Paris  \n",
       "12  09:00 - 17:30      4 place Jussieu, Paris  \n",
       "13  09:00 - 17:30      4 place Jussieu, Paris  \n",
       "14  09:00 - 17:30      4 place Jussieu, Paris  "
      ]
     },
     "execution_count": 4,
     "metadata": {},
     "output_type": "execute_result"
    }
   ],
   "source": [
    "# Collect data\n",
    "title = [elem.get_attribute(\"title\") for elem in event_title]\n",
    "date = [elem.get_attribute(\"datetime\") for elem in event_date]\n",
    "hour = [elem.text for elem in event_hour]\n",
    "address = [elem.text for elem in event_address]\n",
    "\n",
    "# Create dataframe\n",
    "data = {\n",
    "    'Event_title': title,\n",
    "    'Date': date,\n",
    "    'Time': hour,\n",
    "    'Address': address\n",
    "}\n",
    "\n",
    "df = pd.DataFrame(data)\n",
    "\n",
    "# Show dataframe\n",
    "df"
   ]
  },
  {
   "cell_type": "markdown",
   "id": "e983255c-c671-4dee-81fb-b256f809fcbd",
   "metadata": {},
   "source": [
    "###### Convert csv"
   ]
  },
  {
   "cell_type": "code",
   "execution_count": 5,
   "id": "649c97ab-6448-45d1-adcf-a97b4497dab6",
   "metadata": {},
   "outputs": [],
   "source": [
    "#df.to_csv('exemple.csv', index=False)"
   ]
  },
  {
   "cell_type": "markdown",
   "id": "cb72f11a-b1c6-4339-abc1-cccf4e81bc75",
   "metadata": {},
   "source": [
    "###### Other ways to select information"
   ]
  },
  {
   "cell_type": "code",
   "execution_count": 6,
   "id": "044bda60-2479-4077-83f5-3bafecc590ba",
   "metadata": {},
   "outputs": [],
   "source": [
    "event_title = driver.find_elements(By.XPATH, \"//*[@class='tribe-events-calendar-list__event-title-link tribe-common-anchor-thin']\")\n",
    "event_date = driver.find_elements(By.XPATH, \"//*[@class='dateshed']\")\n",
    "event_hour = driver.find_elements(By.XPATH, \"//*[@class='timeshed']\")\n",
    "event_adress = driver.find_elements(By.XPATH, \"//*[@class='tribe-events-calendar-list__event-venue-address']\")\n",
    "event_adress = driver.find_elements(By.CLASS_NAME, \"tribe-events-calendar-list__event-venue-address\")\n",
    "event_date = driver.find_elements(By.CLASS_NAME, \"dateshed\")\n",
    "event_hour = driver.find_elements(By.CLASS_NAME, \"timeshed\")"
   ]
  },
  {
   "cell_type": "code",
   "execution_count": null,
   "id": "eed09444-ad72-4bc5-9662-c5f5594eeb85",
   "metadata": {},
   "outputs": [],
   "source": []
  }
 ],
 "metadata": {
  "kernelspec": {
   "display_name": "Python 3 (ipykernel)",
   "language": "python",
   "name": "python3"
  },
  "language_info": {
   "codemirror_mode": {
    "name": "ipython",
    "version": 3
   },
   "file_extension": ".py",
   "mimetype": "text/x-python",
   "name": "python",
   "nbconvert_exporter": "python",
   "pygments_lexer": "ipython3",
   "version": "3.11.7"
  }
 },
 "nbformat": 4,
 "nbformat_minor": 5
}

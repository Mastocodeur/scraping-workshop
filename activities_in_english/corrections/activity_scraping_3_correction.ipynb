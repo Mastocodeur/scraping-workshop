{
 "cells": [
  {
   "cell_type": "markdown",
   "id": "c6f333bd-2609-4858-b410-1414c00cd3d6",
   "metadata": {},
   "source": [
    "# Activity 3 : Generalising several puzzles with Selenium"
   ]
  },
  {
   "cell_type": "markdown",
   "id": "6e655cd2-053b-47a2-baf0-9eabfc01b7dc",
   "metadata": {},
   "source": [
    "<div style=\"text-align: center;\">\n",
    "    <img src=\"../images/scrappeur.png\" width=\"600\" height=\"300\">\n",
    "</div>\n"
   ]
  },
  {
   "cell_type": "markdown",
   "id": "7a4dd990-fa58-4cf6-9872-dff74dee60f9",
   "metadata": {},
   "source": [
    "___"
   ]
  },
  {
   "cell_type": "markdown",
   "id": "1e53dc45-7ff5-48c8-bf00-455192957a17",
   "metadata": {},
   "source": [
    "For this activity, we're going to create a more complete table for several puzzles.\n",
    "\n",
    "This time we want a table containing the following columns: `title`, `enigma_num`, `url`, `image`, `enigma`, `solution` for 5 enigmas.\n",
    "\n",
    "We will provide the first part to select 5 riddles. We start by going to a page containing links to all the puzzles in the game : "
   ]
  },
  {
   "cell_type": "code",
   "execution_count": null,
   "id": "294e5c2c-83bc-4813-b3ce-45225bd18b85",
   "metadata": {},
   "outputs": [],
   "source": [
    "from selenium import webdriver\n",
    "from selenium.webdriver.chrome.options import Options\n",
    "from selenium.webdriver.common.by import By\n",
    "import time\n",
    "import random\n",
    "import pandas as pd"
   ]
  },
  {
   "cell_type": "code",
   "execution_count": 19,
   "id": "b60346b6-5eb8-426c-be78-ecaa333fd603",
   "metadata": {},
   "outputs": [],
   "source": [
    "url = \"https://professeur-layton.fandom.com/fr/wiki/Cat%C3%A9gorie:%C3%89nigmes\""
   ]
  },
  {
   "cell_type": "markdown",
   "id": "66052869-703b-4afb-8d5a-7639314b1c79",
   "metadata": {},
   "source": [
    "We connect in ‘headless’ mode to save a few lines of code :"
   ]
  },
  {
   "cell_type": "code",
   "execution_count": 20,
   "id": "00dd6921-7f13-4a58-b6cf-8849e10a527f",
   "metadata": {},
   "outputs": [],
   "source": [
    "# Creating an instance of Chrome options\n",
    "chrome_options = Options()\n",
    "\n",
    "# Setting Chrome options \n",
    "chrome_options.add_argument('--disable-search-engine-choice-screen') \n",
    "chrome_options.add_argument('--disable-infobars')\n",
    "chrome_options.add_argument('--headless=new')\n",
    "# Create a new instance of the Chrome browser with the specified options\n",
    "driver = webdriver.Chrome(options=chrome_options)\n",
    "driver.get(url)"
   ]
  },
  {
   "cell_type": "markdown",
   "id": "3b6274c3-e3b1-4146-8394-bed034efb38d",
   "metadata": {},
   "source": [
    "We retrieve all the href links to the puzzles using a CSS_Selector : "
   ]
  },
  {
   "cell_type": "code",
   "execution_count": 21,
   "id": "23dae7e7-f64d-4d28-9891-ec4d36b715a6",
   "metadata": {},
   "outputs": [],
   "source": [
    "# Retrieve all <a> elements with the ‘category-page__member-link’ class.\n",
    "elements = driver.find_elements(By.CSS_SELECTOR, \"a.category-page__member-link\")\n",
    "# Extract the hrefs of the elements found\n",
    "hrefs = [element.get_attribute(\"href\") for element in elements]"
   ]
  },
  {
   "cell_type": "code",
   "execution_count": null,
   "id": "a1267d97-57e9-40dd-af8c-500185f3b570",
   "metadata": {},
   "outputs": [],
   "source": [
    "# Extract the hrefs from the found elements and filter to exclude those containing \"Category\"\n",
    "hrefs = [element.get_attribute(\"href\") for element in elements if \"Cat%C3%A9gorie\" not in element.get_attribute(\"href\")]"
   ]
  },
  {
   "cell_type": "markdown",
   "id": "ac26e51f-6c82-4f53-ac3f-1bc3c000edc2",
   "metadata": {},
   "source": [
    "We randomly extract a list of 3 links (to avoid having code that is too long and overloading the wiki with requests) :"
   ]
  },
  {
   "cell_type": "code",
   "execution_count": 22,
   "id": "0a65b6f3-3235-4ae4-aa6c-29fc82c7c184",
   "metadata": {},
   "outputs": [],
   "source": [
    "# Randomly select 3 hrefs\n",
    "hrefs = random.sample(hrefs, 3)"
   ]
  },
  {
   "cell_type": "code",
   "execution_count": 23,
   "id": "5847ebb9-677d-4f79-8013-8c5b411b402d",
   "metadata": {},
   "outputs": [
    {
     "data": {
      "text/plain": [
       "['https://professeur-layton.fandom.com/fr/wiki/Chamailleries',\n",
       " 'https://professeur-layton.fandom.com/fr/wiki/Paf_le_chien_!',\n",
       " 'https://professeur-layton.fandom.com/fr/wiki/La_travers%C3%A9e_(1)']"
      ]
     },
     "execution_count": 23,
     "metadata": {},
     "output_type": "execute_result"
    }
   ],
   "source": [
    "hrefs"
   ]
  },
  {
   "cell_type": "markdown",
   "id": "8852ba78-e1ba-4a28-8852-8f02825daa8a",
   "metadata": {},
   "source": [
    "We will then create a function which, for each link, retrieves the data we are interested in :"
   ]
  },
  {
   "cell_type": "code",
   "execution_count": 26,
   "id": "c02e242f-8335-419d-92ee-13a569f8fbe0",
   "metadata": {},
   "outputs": [],
   "source": [
    "from selenium.common.exceptions import NoSuchElementException\n",
    "\n",
    "def collecte_enigme(href):\n",
    "    url = href\n",
    "    \n",
    "    # Browser configuration (Chrome in this example)\n",
    "    options = Options()\n",
    "    options.add_argument(\"--headless\")  # Run Chrome in headless mode\n",
    "    chrome_options.add_argument('--disable-search-engine-choice-screen') \n",
    "    chrome_options.add_argument('--disable-infobars')\n",
    "    driver = webdriver.Chrome(options=options)\n",
    "    \n",
    "    # Open the web page\n",
    "    driver.get(url)\n",
    "    time.sleep(3)\n",
    "    try:\n",
    "        cookie = driver.find_element(By.XPATH ,'/html/body/div[7]/div/div/div[2]/div[2]/div[1]')\n",
    "        cookie.click()\n",
    "    except :\n",
    "        pass\n",
    "    try : \n",
    "        # Title recovery :\n",
    "        title = driver.find_element(By.ID, 'firstHeading')\n",
    "        title = title.text\n",
    "    except : \n",
    "        title = None\n",
    "    try:\n",
    "        time.sleep(4)\n",
    "        num_enigme = driver.find_element(By.XPATH ,'//*[@id=\"mw-content-text\"]/div/div[1]/div[2]/table/tbody/tr[4]/td')\n",
    "        num_enigme = num_enigme.text\n",
    "       \n",
    "    except :\n",
    "        num_enigme = None\n",
    "    try:\n",
    "        \n",
    "        # Image recovery\n",
    "        image_element = driver.find_element(By.CSS_SELECTOR, 'div.floatnone img')\n",
    "        image = image_element.get_attribute(\"src\")\n",
    "    \n",
    "    except:\n",
    "        image=None\n",
    "    \n",
    "    # Retrieve the statement of the riddle :\n",
    "    enigme_enonce = None\n",
    "    try : \n",
    "        enonce = driver.find_element(By.ID, \"Énoncé\")\n",
    "        enigme_enonce = enonce.find_elements(By.XPATH, \"//span[@class='mw-headline' and @id='Énoncé']/ancestor::h2/following-sibling::p[following-sibling::h2]\")\n",
    "        enigme_enonce = \"\".join([elem.text for elem in enigme_enonce])\n",
    "    except NoSuchElementException:\n",
    "        enigme_enonce = image\n",
    "        \n",
    "    resolution_title = None\n",
    "    \n",
    "    try:\n",
    "        resolution_title = driver.find_element(By.ID, \"Résolution\")\n",
    "        resolution = resolution_title.find_elements(By.XPATH, \"//span[@class='mw-headline' and @id='Résolution']/ancestor::h3/following-sibling::p[following-sibling::h3]\")\n",
    "        resolution = \"\\n\".join([elem.text for elem in resolution])\n",
    "    except Exception:\n",
    "        try:\n",
    "            solution = driver.find_element(By.ID, \"Solution\")\n",
    "            # Find the first ‘div’ sibling of ‘Solution’ that contains the slideshow\n",
    "            slideshow_div = solution.find_element(By.XPATH, '//*[@id=\"slideshow-0\"]/div/div[1]')\n",
    "\n",
    "            # Locate the specific image within this slideshow\n",
    "            image_element = slideshow_div.find_element(By.XPATH, './/img[@class=\"thumbimage\"]')\n",
    "            image_url = image_element.get_attribute('src')\n",
    "            resolution = image_url\n",
    "        except : \n",
    "            text_elements = solution.find_elements(By.XPATH, 'following::p')\n",
    "            resolution = \"\\n\".join([elem.text for elem in text_elements])\n",
    " \n",
    "    # Creating the DataFrame\n",
    "    return pd.DataFrame([{'title': title, 'num_enigme':num_enigme, 'url': url, 'image': image, 'enigme': enigme_enonce, 'solution': resolution}])\n"
   ]
  },
  {
   "cell_type": "markdown",
   "id": "e58839a0-1d23-47ea-8c03-07577cd76f2f",
   "metadata": {},
   "source": [
    "We then use this function to create our DataFrame :"
   ]
  },
  {
   "cell_type": "code",
   "execution_count": 25,
   "id": "87629b8c-91d2-4532-9e9d-e64bb76b8aa6",
   "metadata": {},
   "outputs": [
    {
     "name": "stdout",
     "output_type": "stream",
     "text": [
      "Scraping de la page https://professeur-layton.fandom.com/fr/wiki/Chamailleries en cours...\n",
      "Scraping de la page https://professeur-layton.fandom.com/fr/wiki/Paf_le_chien_! en cours...\n",
      "Scraping de la page https://professeur-layton.fandom.com/fr/wiki/La_travers%C3%A9e_(1) en cours...\n",
      "Fin du Scraping\n"
     ]
    }
   ],
   "source": [
    "df_final = pd.DataFrame()\n",
    "for href in hrefs:\n",
    "    print(\"Scraping de la page\", href, \"en cours...\")\n",
    "    df_final = pd.concat([df_final, collecte_enigme(href)], ignore_index=True)\n",
    "print(\"Fin du Scraping\")"
   ]
  },
  {
   "cell_type": "code",
   "execution_count": 27,
   "id": "1037ac10-3d1f-4120-b840-53e2b7e81b14",
   "metadata": {},
   "outputs": [
    {
     "data": {
      "text/html": [
       "<div>\n",
       "<style scoped>\n",
       "    .dataframe tbody tr th:only-of-type {\n",
       "        vertical-align: middle;\n",
       "    }\n",
       "\n",
       "    .dataframe tbody tr th {\n",
       "        vertical-align: top;\n",
       "    }\n",
       "\n",
       "    .dataframe thead th {\n",
       "        text-align: right;\n",
       "    }\n",
       "</style>\n",
       "<table border=\"1\" class=\"dataframe\">\n",
       "  <thead>\n",
       "    <tr style=\"text-align: right;\">\n",
       "      <th></th>\n",
       "      <th>title</th>\n",
       "      <th>num_enigme</th>\n",
       "      <th>url</th>\n",
       "      <th>image</th>\n",
       "      <th>enigme</th>\n",
       "      <th>solution</th>\n",
       "    </tr>\n",
       "  </thead>\n",
       "  <tbody>\n",
       "    <tr>\n",
       "      <th>0</th>\n",
       "      <td>Chamailleries</td>\n",
       "      <td>027</td>\n",
       "      <td>https://professeur-layton.fandom.com/fr/wiki/C...</td>\n",
       "      <td>https://static.wikia.nocookie.net/layton/image...</td>\n",
       "      <td>Six frères se réunissent autour d'une table po...</td>\n",
       "      <td>Beau travail !\\nPlacez les garçons comme le mo...</td>\n",
       "    </tr>\n",
       "    <tr>\n",
       "      <th>1</th>\n",
       "      <td>Paf le chien !</td>\n",
       "      <td>009</td>\n",
       "      <td>https://professeur-layton.fandom.com/fr/wiki/P...</td>\n",
       "      <td>https://static.wikia.nocookie.net/layton/image...</td>\n",
       "      <td>Les allumettes ci-dessous représentent un chie...</td>\n",
       "      <td>La voiture a aplati le pauvre chien ! Il faut ...</td>\n",
       "    </tr>\n",
       "    <tr>\n",
       "      <th>2</th>\n",
       "      <td>La traversée (1)</td>\n",
       "      <td>007</td>\n",
       "      <td>https://professeur-layton.fandom.com/fr/wiki/L...</td>\n",
       "      <td>https://static.wikia.nocookie.net/layton/image...</td>\n",
       "      <td>Vous devez amener les trois loups et les trois...</td>\n",
       "      <td></td>\n",
       "    </tr>\n",
       "  </tbody>\n",
       "</table>\n",
       "</div>"
      ],
      "text/plain": [
       "              title num_enigme  \\\n",
       "0     Chamailleries        027   \n",
       "1    Paf le chien !        009   \n",
       "2  La traversée (1)        007   \n",
       "\n",
       "                                                 url  \\\n",
       "0  https://professeur-layton.fandom.com/fr/wiki/C...   \n",
       "1  https://professeur-layton.fandom.com/fr/wiki/P...   \n",
       "2  https://professeur-layton.fandom.com/fr/wiki/L...   \n",
       "\n",
       "                                               image  \\\n",
       "0  https://static.wikia.nocookie.net/layton/image...   \n",
       "1  https://static.wikia.nocookie.net/layton/image...   \n",
       "2  https://static.wikia.nocookie.net/layton/image...   \n",
       "\n",
       "                                              enigme  \\\n",
       "0  Six frères se réunissent autour d'une table po...   \n",
       "1  Les allumettes ci-dessous représentent un chie...   \n",
       "2  Vous devez amener les trois loups et les trois...   \n",
       "\n",
       "                                            solution  \n",
       "0  Beau travail !\\nPlacez les garçons comme le mo...  \n",
       "1  La voiture a aplati le pauvre chien ! Il faut ...  \n",
       "2                                                     "
      ]
     },
     "execution_count": 27,
     "metadata": {},
     "output_type": "execute_result"
    }
   ],
   "source": [
    "pd.set_option('display.max_row', 5)\n",
    "pd.set_option('display.max_column', 6)\n",
    "df_final"
   ]
  },
  {
   "cell_type": "code",
   "execution_count": 28,
   "id": "6f6a15ac-87fc-4319-9428-f9c622e8096e",
   "metadata": {},
   "outputs": [],
   "source": [
    "#Permet de mettre fin au driver\n",
    "driver.quit()"
   ]
  },
  {
   "cell_type": "markdown",
   "id": "92163375-fd98-47d7-9f1f-02ef3ce61d00",
   "metadata": {},
   "source": [
    "## Activity 3 BONUS : Generalising several puzzles with BeautifulSoup"
   ]
  },
  {
   "cell_type": "code",
   "execution_count": null,
   "id": "bcbb1efe-d369-4015-b680-7dffc4b55060",
   "metadata": {},
   "outputs": [],
   "source": [
    "from bs4 import BeautifulSoup, Tag\n",
    "from typing import List\n",
    "import requests\n",
    "import random\n",
    "import pandas as pd"
   ]
  },
  {
   "cell_type": "markdown",
   "id": "aa3a73f1-7f1d-4772-8bb0-a77624b5b1e6",
   "metadata": {},
   "source": [
    "#### Launch a query to retrieve all the source code of the url to be scrapped"
   ]
  },
  {
   "cell_type": "code",
   "execution_count": 29,
   "id": "6b107ff9-1051-4bff-bfd9-af8824328b6b",
   "metadata": {},
   "outputs": [],
   "source": [
    "url = \"https://professeur-layton.fandom.com/fr/wiki/Cat%C3%A9gorie:%C3%89nigmes\"\n",
    "data  = requests.get(url).text\n",
    "soup = BeautifulSoup(data,\"html5lib\")"
   ]
  },
  {
   "cell_type": "markdown",
   "id": "80ecca56-e498-4c9b-8749-eb9f39025349",
   "metadata": {},
   "source": [
    "#### Display page source code"
   ]
  },
  {
   "cell_type": "code",
   "execution_count": 30,
   "id": "b45dc254-8e02-4e3b-aa78-297b2c1a621d",
   "metadata": {},
   "outputs": [],
   "source": [
    "#print(soup.prettify())"
   ]
  },
  {
   "cell_type": "markdown",
   "id": "fb1ea655-d96a-4e0d-882a-7d789e1d39ec",
   "metadata": {},
   "source": [
    "#### Collect all puzzle links and take only 5 at random"
   ]
  },
  {
   "cell_type": "code",
   "execution_count": 31,
   "id": "b0c547ee-5a10-4401-b070-b8d08e66f6aa",
   "metadata": {},
   "outputs": [],
   "source": [
    "# Trouver tous les éléments <a> avec la classe \"category-page__member-link\"\n",
    "links = soup.find_all('a', class_='category-page__member-link')\n",
    "\n",
    "# Extraire les attributs href\n",
    "hrefs = [link.get('href') for link in links]\n",
    "\n",
    "# Afficher les hrefs\n",
    "#print(hrefs)\n",
    "#print(len(hrefs))\n",
    "\n",
    "# Sélectionner aléatoirement 5 hrefs\n",
    "hrefs = random.sample(hrefs, 5)\n",
    "\n",
    "# Afficher les hrefs sélectionnés aléatoirement\n",
    "#print(random_hrefs)\n",
    "#print(len(random_hrefs))"
   ]
  },
  {
   "cell_type": "markdown",
   "id": "a64fd639-3e47-48a7-895c-8c4357dd072d",
   "metadata": {},
   "source": [
    "#### Let's create a function to repeat the data extraction steps"
   ]
  },
  {
   "cell_type": "code",
   "execution_count": 32,
   "id": "df501c30-439c-4881-86b0-4d2be844c172",
   "metadata": {},
   "outputs": [],
   "source": [
    "def collecte_enigme(racine, href):\n",
    "    url = racine+href\n",
    "    data  = requests.get(url).text\n",
    "    soup = BeautifulSoup(data,\"html.parser\")\n",
    "  \n",
    "    # Récupération du titre\n",
    "    title = soup.find('meta', attrs={'property': \"og:title\"})\n",
    "    title = title.get(\"content\")\n",
    "\n",
    "    # Récupération url\n",
    "    url_enigme = soup.find('meta', attrs={'property': \"og:url\"})\n",
    "    url_enigme = url_enigme.get(\"content\")\n",
    "\n",
    "    # Récupération de l'image\n",
    "    src_tags = soup.find_all(src=True)\n",
    "    # Extraire les valeurs de src\n",
    "    src_urls = [tag['src'] for tag in src_tags]\n",
    "    longest_src = max(src_urls, key=len) if src_urls else None\n",
    "    image = longest_src\n",
    "\n",
    "    # Récupération de l'énigme\n",
    "    try:\n",
    "        enigme_title = soup.find('span', {'class': 'mw-headline', 'id': 'Énoncé'})\n",
    "        # Trouver le paragraphe suivant le titre de la section \"Énoncé\"\n",
    "        enigme_paragraph = enigme_title.find_next('p')\n",
    "        # Extraire le texte du paragraphe\n",
    "        enigme = enigme_paragraph.get_text(strip=True)\n",
    "        \n",
    "    except :\n",
    "        enigme = image\n",
    "        \n",
    "    # Récupération de la réponse\n",
    "    try :\n",
    "        \n",
    "        reponse_title = soup.find('span', {'class': 'mw-headline', 'id': 'Solution'})\n",
    "        reponse_paragraph = reponse_title.find_next('p')\n",
    "        reponse = reponse_paragraph.get_text(strip=True)\n",
    "    except :\n",
    "        a_tag = soup.find('a', class_='image')\n",
    "        if a_tag:\n",
    "            reponse = a_tag.get('href')\n",
    "        else:\n",
    "            reponse =\"La réponse n'a pas été loadé correctement\"\n",
    "\n",
    "    # Récupération des indices\n",
    "    tabs = soup.select('ul.wds-tabs li.wds-tabs__tab a')\n",
    "    contents = soup.select('div.wds-tab__content')\n",
    "    # Extract each index content into a list\n",
    "    indices = []\n",
    "    for i, tab in enumerate(tabs):\n",
    "        if i < len(contents):\n",
    "            content_divs = contents[i].select('div[style*=\"overflow-y:auto\"]')\n",
    "            if content_divs:\n",
    "                content = content_divs[0].get_text(strip=True)\n",
    "                indices.append(content)\n",
    "        \n",
    "    # Append the collected data as a dictionary\n",
    "    data = []\n",
    "    data.append({'title': title, 'url': url_enigme, 'image': image, 'enigme': enigme, 'indices': indices,'solution': reponse})\n",
    "\n",
    "    \n",
    "    df = pd.DataFrame(data)\n",
    "    return df"
   ]
  },
  {
   "cell_type": "markdown",
   "id": "ab2a839e-1db8-4d74-9a8b-802bf0892707",
   "metadata": {},
   "source": [
    "#### Using the function and storing it in a DataFrame"
   ]
  },
  {
   "cell_type": "code",
   "execution_count": 33,
   "id": "57b83f25-c3b8-49c1-bb69-e5d43993dc1e",
   "metadata": {},
   "outputs": [],
   "source": [
    "racine = \"https://professeur-layton.fandom.com\"\n",
    "df_final = pd.DataFrame()\n",
    "for href in hrefs:\n",
    "    #print(href)\n",
    "    df_final = pd.concat([df_final, collecte_enigme(racine,href)], ignore_index=True)"
   ]
  },
  {
   "cell_type": "markdown",
   "id": "145124c0-949a-435a-b620-98c23523a31a",
   "metadata": {},
   "source": [
    "#### Visualisation"
   ]
  },
  {
   "cell_type": "code",
   "execution_count": 34,
   "id": "059c5314-9042-4de1-8e89-0396335db08c",
   "metadata": {},
   "outputs": [
    {
     "data": {
      "text/html": [
       "<div>\n",
       "<style scoped>\n",
       "    .dataframe tbody tr th:only-of-type {\n",
       "        vertical-align: middle;\n",
       "    }\n",
       "\n",
       "    .dataframe tbody tr th {\n",
       "        vertical-align: top;\n",
       "    }\n",
       "\n",
       "    .dataframe thead th {\n",
       "        text-align: right;\n",
       "    }\n",
       "</style>\n",
       "<table border=\"1\" class=\"dataframe\">\n",
       "  <thead>\n",
       "    <tr style=\"text-align: right;\">\n",
       "      <th></th>\n",
       "      <th>title</th>\n",
       "      <th>url</th>\n",
       "      <th>image</th>\n",
       "      <th>enigme</th>\n",
       "      <th>indices</th>\n",
       "      <th>solution</th>\n",
       "    </tr>\n",
       "  </thead>\n",
       "  <tbody>\n",
       "    <tr>\n",
       "      <th>0</th>\n",
       "      <td>Dédale numérique</td>\n",
       "      <td>https://professeur-layton.fandom.com/fr/wiki/D...</td>\n",
       "      <td>https://static.wikia.nocookie.net/layton/image...</td>\n",
       "      <td>Essayez de sortir de ce labyrinthe ! Commencez...</td>\n",
       "      <td>[Si vous essayez tous les itinéraires possible...</td>\n",
       "      <td>Par ici la sortie.</td>\n",
       "    </tr>\n",
       "    <tr>\n",
       "      <th>1</th>\n",
       "      <td>Tas de feuilles</td>\n",
       "      <td>https://professeur-layton.fandom.com/fr/wiki/T...</td>\n",
       "      <td>https://static.wikia.nocookie.net/layton/image...</td>\n",
       "      <td>Plusieurs feuilles de calque ont été superposé...</td>\n",
       "      <td>[Trois couches ici, quatre couches là...Marque...</td>\n",
       "      <td>La réponse est 5.</td>\n",
       "    </tr>\n",
       "    <tr>\n",
       "      <th>2</th>\n",
       "      <td>Tenir l'affiche</td>\n",
       "      <td>https://professeur-layton.fandom.com/fr/wiki/T...</td>\n",
       "      <td>https://static.wikia.nocookie.net/layton/image...</td>\n",
       "      <td>Alors que Benny s'appliquait à placarder des a...</td>\n",
       "      <td>[Il est plus simple d'éliminer les affiches di...</td>\n",
       "      <td>Il suffit de cocher l'affiche B.</td>\n",
       "    </tr>\n",
       "    <tr>\n",
       "      <th>3</th>\n",
       "      <td>Inéquations ?</td>\n",
       "      <td>https://professeur-layton.fandom.com/fr/wiki/I...</td>\n",
       "      <td>https://static.wikia.nocookie.net/layton/image...</td>\n",
       "      <td>Eh bien, on dirait que quelqu'un a encore écri...</td>\n",
       "      <td>[Au premier coup d'œil, il semble que l'auteur...</td>\n",
       "      <td>La réponse est 1.</td>\n",
       "    </tr>\n",
       "    <tr>\n",
       "      <th>4</th>\n",
       "      <td>Alchimie en folie 01</td>\n",
       "      <td>https://professeur-layton.fandom.com/fr/wiki/A...</td>\n",
       "      <td>https://static.wikia.nocookie.net/layton/image...</td>\n",
       "      <td>https://static.wikia.nocookie.net/layton/image...</td>\n",
       "      <td>[]</td>\n",
       "      <td>Solution à l'énigme.</td>\n",
       "    </tr>\n",
       "  </tbody>\n",
       "</table>\n",
       "</div>"
      ],
      "text/plain": [
       "                  title                                                url  \\\n",
       "0      Dédale numérique  https://professeur-layton.fandom.com/fr/wiki/D...   \n",
       "1       Tas de feuilles  https://professeur-layton.fandom.com/fr/wiki/T...   \n",
       "2       Tenir l'affiche  https://professeur-layton.fandom.com/fr/wiki/T...   \n",
       "3         Inéquations ?  https://professeur-layton.fandom.com/fr/wiki/I...   \n",
       "4  Alchimie en folie 01  https://professeur-layton.fandom.com/fr/wiki/A...   \n",
       "\n",
       "                                               image  \\\n",
       "0  https://static.wikia.nocookie.net/layton/image...   \n",
       "1  https://static.wikia.nocookie.net/layton/image...   \n",
       "2  https://static.wikia.nocookie.net/layton/image...   \n",
       "3  https://static.wikia.nocookie.net/layton/image...   \n",
       "4  https://static.wikia.nocookie.net/layton/image...   \n",
       "\n",
       "                                              enigme  \\\n",
       "0  Essayez de sortir de ce labyrinthe ! Commencez...   \n",
       "1  Plusieurs feuilles de calque ont été superposé...   \n",
       "2  Alors que Benny s'appliquait à placarder des a...   \n",
       "3  Eh bien, on dirait que quelqu'un a encore écri...   \n",
       "4  https://static.wikia.nocookie.net/layton/image...   \n",
       "\n",
       "                                             indices  \\\n",
       "0  [Si vous essayez tous les itinéraires possible...   \n",
       "1  [Trois couches ici, quatre couches là...Marque...   \n",
       "2  [Il est plus simple d'éliminer les affiches di...   \n",
       "3  [Au premier coup d'œil, il semble que l'auteur...   \n",
       "4                                                 []   \n",
       "\n",
       "                           solution  \n",
       "0                Par ici la sortie.  \n",
       "1                 La réponse est 5.  \n",
       "2  Il suffit de cocher l'affiche B.  \n",
       "3                 La réponse est 1.  \n",
       "4              Solution à l'énigme.  "
      ]
     },
     "execution_count": 34,
     "metadata": {},
     "output_type": "execute_result"
    }
   ],
   "source": [
    "pd.set_option('display.max_row', 7)\n",
    "pd.set_option('display.max_column', 6)\n",
    "df_final"
   ]
  },
  {
   "cell_type": "markdown",
   "id": "be2e582c-54d1-4617-82ae-d05b7ec943bf",
   "metadata": {},
   "source": [
    "# Conclusion"
   ]
  },
  {
   "cell_type": "markdown",
   "id": "137e12c8-22b2-407b-94df-ae5e7601e28d",
   "metadata": {},
   "source": [
    "We finally succeeded in building a DataFrame from a website! \n",
    "The important thing to remember is that BeautifulSoup is very useful for so-called “open” sites and for the massive repetition of information gathering."
   ]
  }
 ],
 "metadata": {
  "kernelspec": {
   "display_name": "Python 3 (ipykernel)",
   "language": "python",
   "name": "python3"
  },
  "language_info": {
   "codemirror_mode": {
    "name": "ipython",
    "version": 3
   },
   "file_extension": ".py",
   "mimetype": "text/x-python",
   "name": "python",
   "nbconvert_exporter": "python",
   "pygments_lexer": "ipython3",
   "version": "3.11.7"
  }
 },
 "nbformat": 4,
 "nbformat_minor": 5
}

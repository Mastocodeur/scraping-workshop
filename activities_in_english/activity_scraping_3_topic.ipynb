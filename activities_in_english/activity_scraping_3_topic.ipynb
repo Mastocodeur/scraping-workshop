{
 "cells": [
  {
   "cell_type": "markdown",
   "id": "372d67eb-0ee4-4a5b-aa58-4377f3c5c7b3",
   "metadata": {},
   "source": [
    "# Activity 3 : Scrape what you want! "
   ]
  },
  {
   "cell_type": "markdown",
   "id": "9be1d428-880c-4def-9d41-558ab48f2559",
   "metadata": {},
   "source": [
    "### First possibility"
   ]
  },
  {
   "cell_type": "markdown",
   "id": "9aedf4c0-fb6d-446c-b676-22421c2ce3af",
   "metadata": {},
   "source": [
    "For this last activity, we'll let you scrape any site you like! We'll be coming along to help you!\n",
    "\n",
    "If you don't have any ideas, here's a list of interesting URLs to scrape:\n",
    "\n",
    "- https://fr.wikipedia.org/wiki/Wikip%C3%A9dia:Accueil_principal\n",
    "- https://huggingface.co/\n",
    "- https://pytorch.org/docs/stable/index.html\n",
    "- https://www.amazon.fr/"
   ]
  },
  {
   "cell_type": "code",
   "execution_count": null,
   "id": "7f414780-2101-4138-a363-89c4c3acef84",
   "metadata": {},
   "outputs": [],
   "source": []
  },
  {
   "cell_type": "code",
   "execution_count": null,
   "id": "7dfc1267-66f2-466e-9677-6759aacf6904",
   "metadata": {},
   "outputs": [],
   "source": []
  },
  {
   "cell_type": "code",
   "execution_count": null,
   "id": "f5537a25-a954-4254-ba9a-33aef72a5eed",
   "metadata": {},
   "outputs": [],
   "source": []
  },
  {
   "cell_type": "markdown",
   "id": "65ed3340-5e65-42e2-9e33-a9742c0f15d2",
   "metadata": {},
   "source": [
    "### Second Possibility"
   ]
  },
  {
   "cell_type": "markdown",
   "id": "ecbdef40-83fc-4c56-bf53-7efae860df7a",
   "metadata": {},
   "source": [
    "If this list doesn't suit you and no ideas come to mind, we suggest expanding on the concept from Activity 1.\n",
    "\n",
    "This time we want a table containing the following columns: `title`, `enigma_num`, `url`, `image`, `enigma`, `solution` for 5 enigmas.\n",
    "\n",
    "We will provide the first part to select 3 riddles. We start by going to a page containing links to all the puzzles in the game : "
   ]
  },
  {
   "cell_type": "code",
   "execution_count": 1,
   "id": "514aaee1-8b18-4ccc-8cbd-060af55df271",
   "metadata": {},
   "outputs": [],
   "source": [
    "from selenium import webdriver\n",
    "from selenium.webdriver.chrome.options import Options\n",
    "from selenium.webdriver.common.by import By\n",
    "import time\n",
    "import random\n",
    "import pandas as pd"
   ]
  },
  {
   "cell_type": "code",
   "execution_count": 2,
   "id": "44836dcd-bfaf-49d3-a101-f0b89493abe8",
   "metadata": {},
   "outputs": [],
   "source": [
    "url = \"https://professeur-layton.fandom.com/fr/wiki/Cat%C3%A9gorie:%C3%89nigmes\""
   ]
  },
  {
   "cell_type": "markdown",
   "id": "1ccac62f-38b4-4b40-ac0f-e1c7d50d4228",
   "metadata": {},
   "source": [
    "We connect in ‘headless’ mode to save a few lines of code :"
   ]
  },
  {
   "cell_type": "code",
   "execution_count": 3,
   "id": "9948b156-6198-41f4-a3af-9ea95eca3d88",
   "metadata": {},
   "outputs": [],
   "source": [
    "# Creating an instance of Chrome options\n",
    "chrome_options = Options()\n",
    "\n",
    "# Setting Chrome options \n",
    "chrome_options.add_argument('--disable-search-engine-choice-screen') \n",
    "chrome_options.add_argument('--disable-infobars')\n",
    "chrome_options.add_argument('--headless=new')\n",
    "# Create a new instance of the Chrome browser with the specified options\n",
    "driver = webdriver.Chrome(options=chrome_options)\n",
    "driver.get(url)"
   ]
  },
  {
   "cell_type": "markdown",
   "id": "2370cd9d-5c8f-4349-bdf0-d7e11a2224d8",
   "metadata": {},
   "source": [
    "We retrieve all the href links to the puzzles using a CSS_Selector :"
   ]
  },
  {
   "cell_type": "code",
   "execution_count": 4,
   "id": "83ac783b-ac71-4934-b5be-4c82b3ecd8c6",
   "metadata": {},
   "outputs": [],
   "source": [
    "# Retrieve all <a> elements with the ‘category-page__member-link’ class.\n",
    "elements = driver.find_elements(By.CSS_SELECTOR, \"a.category-page__member-link\")\n",
    "# Extract the hrefs of the elements found\n",
    "hrefs = [element.get_attribute(\"href\") for element in elements]\n",
    "# Extract the hrefs from the found elements and filter to exclude those containing \"Category\"\n",
    "hrefs = [element.get_attribute(\"href\") for element in elements if \"Cat%C3%A9gorie\" not in element.get_attribute(\"href\")]"
   ]
  },
  {
   "cell_type": "markdown",
   "id": "a9bc8ba8-d77a-43b9-ae44-b2287e2901a3",
   "metadata": {},
   "source": [
    "We randomly extract a list of 3 links (to avoid having code that is too long and overloading the wiki with requests) :"
   ]
  },
  {
   "cell_type": "code",
   "execution_count": 5,
   "id": "d974ef35-a665-47b5-b7e7-1c912c09c017",
   "metadata": {},
   "outputs": [],
   "source": [
    "# Randomly select 3 hrefs\n",
    "hrefs = random.sample(hrefs, 3)"
   ]
  },
  {
   "cell_type": "code",
   "execution_count": 6,
   "id": "4e654100-297a-439d-8a5a-2dccecb58541",
   "metadata": {},
   "outputs": [
    {
     "data": {
      "text/plain": [
       "['https://professeur-layton.fandom.com/fr/wiki/Alchimie_en_folie_01',\n",
       " 'https://professeur-layton.fandom.com/fr/wiki/Chambre_forte',\n",
       " 'https://professeur-layton.fandom.com/fr/wiki/De_dr%C3%B4les_de_points']"
      ]
     },
     "execution_count": 6,
     "metadata": {},
     "output_type": "execute_result"
    }
   ],
   "source": [
    "hrefs"
   ]
  },
  {
   "cell_type": "markdown",
   "id": "60e10c1b-4e7c-43a1-b5a2-5cd3c4ce52a8",
   "metadata": {},
   "source": [
    "We will then create a function which, for each link, retrieves the data we are interested in :"
   ]
  },
  {
   "cell_type": "code",
   "execution_count": null,
   "id": "a141282c-929f-4d10-a0b1-854203890901",
   "metadata": {},
   "outputs": [],
   "source": []
  }
 ],
 "metadata": {
  "kernelspec": {
   "display_name": "Python 3 (ipykernel)",
   "language": "python",
   "name": "python3"
  },
  "language_info": {
   "codemirror_mode": {
    "name": "ipython",
    "version": 3
   },
   "file_extension": ".py",
   "mimetype": "text/x-python",
   "name": "python",
   "nbconvert_exporter": "python",
   "pygments_lexer": "ipython3",
   "version": "3.11.7"
  }
 },
 "nbformat": 4,
 "nbformat_minor": 5
}

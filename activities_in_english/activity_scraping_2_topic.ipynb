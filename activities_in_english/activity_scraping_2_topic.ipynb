{
 "cells": [
  {
   "cell_type": "markdown",
   "id": "a90fbc70-106b-4b56-bace-f14aeaab71f3",
   "metadata": {},
   "source": [
    "## Activity 2: Scrapping Datacraft's agenda with Selenium corrected"
   ]
  },
  {
   "cell_type": "markdown",
   "id": "b56fb53d-5a85-4085-b0e9-67281e42c22e",
   "metadata": {},
   "source": [
    "<div style=\"text-align: center;\">\n",
    "    <img src=\"./images/agenda_datacraft.png\" width=\"600\" height=\"300\">\n",
    "</div>"
   ]
  },
  {
   "cell_type": "markdown",
   "id": "73460c04-4e10-484d-8e11-f82e905830e1",
   "metadata": {},
   "source": [
    "For this second activity, we're going to scrape the datacraft calendar: https://datacraft.paris/agenda/\n",
    "\n",
    "We want to create a DataFrame with the following columns: `event_title`, `date`, `hour`, `address`."
   ]
  },
  {
   "cell_type": "markdown",
   "id": "975f7ce4-4dd5-4251-b466-78d96d591b0d",
   "metadata": {},
   "source": [
    "#### Importing modules"
   ]
  },
  {
   "cell_type": "code",
   "execution_count": 1,
   "id": "4bfe0aee-69a9-4458-9b95-531fff8599ea",
   "metadata": {},
   "outputs": [],
   "source": [
    "# Import des bibliothèques\n",
    "from selenium import webdriver\n",
    "from selenium.webdriver.chrome.service import Service\n",
    "from selenium.webdriver.chrome.options import Options\n",
    "from webdriver_manager.chrome import ChromeDriverManager\n",
    "from selenium.webdriver.common.by import By\n",
    "import pandas as pd"
   ]
  },
  {
   "cell_type": "markdown",
   "id": "06f0f8b6-6886-4fc9-97e7-25f348be68f3",
   "metadata": {},
   "source": [
    "We'll let you try! "
   ]
  },
  {
   "cell_type": "code",
   "execution_count": null,
   "id": "db33a705-4997-40c2-81d7-4f9f981444fe",
   "metadata": {},
   "outputs": [],
   "source": []
  },
  {
   "cell_type": "code",
   "execution_count": null,
   "id": "bb2c9e9c-0e4d-4e58-adc1-7533ec8fc325",
   "metadata": {},
   "outputs": [],
   "source": []
  }
 ],
 "metadata": {
  "kernelspec": {
   "display_name": "Python 3 (ipykernel)",
   "language": "python",
   "name": "python3"
  },
  "language_info": {
   "codemirror_mode": {
    "name": "ipython",
    "version": 3
   },
   "file_extension": ".py",
   "mimetype": "text/x-python",
   "name": "python",
   "nbconvert_exporter": "python",
   "pygments_lexer": "ipython3",
   "version": "3.11.7"
  }
 },
 "nbformat": 4,
 "nbformat_minor": 5
}
